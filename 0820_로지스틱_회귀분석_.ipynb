{
  "nbformat": 4,
  "nbformat_minor": 0,
  "metadata": {
    "colab": {
      "provenance": [],
      "include_colab_link": true
    },
    "kernelspec": {
      "name": "python3",
      "display_name": "Python 3"
    },
    "language_info": {
      "name": "python"
    }
  },
  "cells": [
    {
      "cell_type": "markdown",
      "metadata": {
        "id": "view-in-github",
        "colab_type": "text"
      },
      "source": [
        "<a href=\"https://colab.research.google.com/github/dabin3178/Korean-Newords-NLP/blob/main/0820_%EB%A1%9C%EC%A7%80%EC%8A%A4%ED%8B%B1_%ED%9A%8C%EA%B7%80%EB%B6%84%EC%84%9D_.ipynb\" target=\"_parent\"><img src=\"https://colab.research.google.com/assets/colab-badge.svg\" alt=\"Open In Colab\"/></a>"
      ]
    },
    {
      "cell_type": "code",
      "metadata": {
        "id": "SGP6-7YK-P5C",
        "colab": {
          "base_uri": "https://localhost:8080/"
        },
        "outputId": "b87f7625-7ccb-4775-b5cb-290daea709b5"
      },
      "source": [
        "from google.colab import drive\n",
        "drive.mount('/content/drive')"
      ],
      "execution_count": null,
      "outputs": [
        {
          "output_type": "stream",
          "text": [
            "Mounted at /content/drive\n"
          ],
          "name": "stdout"
        }
      ]
    },
    {
      "cell_type": "code",
      "metadata": {
        "id": "GtwoXY-3-Q18"
      },
      "source": [
        "import pandas as pd\n",
        "import numpy as np"
      ],
      "execution_count": null,
      "outputs": []
    },
    {
      "cell_type": "code",
      "metadata": {
        "id": "-grNvv94-V2p",
        "colab": {
          "base_uri": "https://localhost:8080/",
          "height": 439
        },
        "outputId": "274e46a1-f82c-4a68-c55a-86a80b19ae08"
      },
      "source": [
        "df1 = pd.read_csv('/content/drive/MyDrive/데청캠-심화프로젝트/data/labeling_oversampling.csv')\n",
        "#df1 = pd.read_csv('/content/drive/MyDrive/Project/labeling.csv')\n",
        "df1"
      ],
      "execution_count": null,
      "outputs": [
        {
          "output_type": "execute_result",
          "data": {
            "text/html": [
              "<div>\n",
              "<style scoped>\n",
              "    .dataframe tbody tr th:only-of-type {\n",
              "        vertical-align: middle;\n",
              "    }\n",
              "\n",
              "    .dataframe tbody tr th {\n",
              "        vertical-align: top;\n",
              "    }\n",
              "\n",
              "    .dataframe thead th {\n",
              "        text-align: right;\n",
              "    }\n",
              "</style>\n",
              "<table border=\"1\" class=\"dataframe\">\n",
              "  <thead>\n",
              "    <tr style=\"text-align: right;\">\n",
              "      <th></th>\n",
              "      <th>freq</th>\n",
              "      <th>freq_ratio</th>\n",
              "      <th>length</th>\n",
              "      <th>cohesion_forward</th>\n",
              "      <th>left_branching_entropy</th>\n",
              "      <th>right_branching_entropy</th>\n",
              "      <th>left_accessor_variety</th>\n",
              "      <th>starts_ratio</th>\n",
              "      <th>label</th>\n",
              "    </tr>\n",
              "  </thead>\n",
              "  <tbody>\n",
              "    <tr>\n",
              "      <th>0</th>\n",
              "      <td>352</td>\n",
              "      <td>0.000307</td>\n",
              "      <td>3</td>\n",
              "      <td>0.124943</td>\n",
              "      <td>3.087665</td>\n",
              "      <td>2.561511</td>\n",
              "      <td>37</td>\n",
              "      <td>97</td>\n",
              "      <td>0</td>\n",
              "    </tr>\n",
              "    <tr>\n",
              "      <th>1</th>\n",
              "      <td>232</td>\n",
              "      <td>0.000202</td>\n",
              "      <td>3</td>\n",
              "      <td>0.055058</td>\n",
              "      <td>3.011088</td>\n",
              "      <td>0.948307</td>\n",
              "      <td>28</td>\n",
              "      <td>100</td>\n",
              "      <td>0</td>\n",
              "    </tr>\n",
              "    <tr>\n",
              "      <th>2</th>\n",
              "      <td>256</td>\n",
              "      <td>0.000223</td>\n",
              "      <td>4</td>\n",
              "      <td>0.136442</td>\n",
              "      <td>3.404558</td>\n",
              "      <td>2.785716</td>\n",
              "      <td>39</td>\n",
              "      <td>100</td>\n",
              "      <td>0</td>\n",
              "    </tr>\n",
              "    <tr>\n",
              "      <th>3</th>\n",
              "      <td>148</td>\n",
              "      <td>0.000129</td>\n",
              "      <td>4</td>\n",
              "      <td>0.170890</td>\n",
              "      <td>2.907327</td>\n",
              "      <td>2.910103</td>\n",
              "      <td>23</td>\n",
              "      <td>100</td>\n",
              "      <td>0</td>\n",
              "    </tr>\n",
              "    <tr>\n",
              "      <th>4</th>\n",
              "      <td>136</td>\n",
              "      <td>0.000119</td>\n",
              "      <td>3</td>\n",
              "      <td>0.070635</td>\n",
              "      <td>3.233183</td>\n",
              "      <td>2.799973</td>\n",
              "      <td>26</td>\n",
              "      <td>82</td>\n",
              "      <td>0</td>\n",
              "    </tr>\n",
              "    <tr>\n",
              "      <th>...</th>\n",
              "      <td>...</td>\n",
              "      <td>...</td>\n",
              "      <td>...</td>\n",
              "      <td>...</td>\n",
              "      <td>...</td>\n",
              "      <td>...</td>\n",
              "      <td>...</td>\n",
              "      <td>...</td>\n",
              "      <td>...</td>\n",
              "    </tr>\n",
              "    <tr>\n",
              "      <th>36615</th>\n",
              "      <td>140</td>\n",
              "      <td>0.000122</td>\n",
              "      <td>4</td>\n",
              "      <td>0.221532</td>\n",
              "      <td>1.579637</td>\n",
              "      <td>1.413289</td>\n",
              "      <td>9</td>\n",
              "      <td>100</td>\n",
              "      <td>1</td>\n",
              "    </tr>\n",
              "    <tr>\n",
              "      <th>36616</th>\n",
              "      <td>144</td>\n",
              "      <td>0.000125</td>\n",
              "      <td>4</td>\n",
              "      <td>0.940361</td>\n",
              "      <td>2.781463</td>\n",
              "      <td>2.651950</td>\n",
              "      <td>20</td>\n",
              "      <td>91</td>\n",
              "      <td>1</td>\n",
              "    </tr>\n",
              "    <tr>\n",
              "      <th>36617</th>\n",
              "      <td>394</td>\n",
              "      <td>0.000344</td>\n",
              "      <td>3</td>\n",
              "      <td>0.083799</td>\n",
              "      <td>3.733868</td>\n",
              "      <td>3.434715</td>\n",
              "      <td>54</td>\n",
              "      <td>100</td>\n",
              "      <td>1</td>\n",
              "    </tr>\n",
              "    <tr>\n",
              "      <th>36618</th>\n",
              "      <td>329</td>\n",
              "      <td>0.000287</td>\n",
              "      <td>2</td>\n",
              "      <td>0.460552</td>\n",
              "      <td>3.534511</td>\n",
              "      <td>3.402091</td>\n",
              "      <td>45</td>\n",
              "      <td>83</td>\n",
              "      <td>1</td>\n",
              "    </tr>\n",
              "    <tr>\n",
              "      <th>36619</th>\n",
              "      <td>706</td>\n",
              "      <td>0.000616</td>\n",
              "      <td>2</td>\n",
              "      <td>0.234674</td>\n",
              "      <td>3.442051</td>\n",
              "      <td>2.940817</td>\n",
              "      <td>62</td>\n",
              "      <td>100</td>\n",
              "      <td>1</td>\n",
              "    </tr>\n",
              "  </tbody>\n",
              "</table>\n",
              "<p>36620 rows × 9 columns</p>\n",
              "</div>"
            ],
            "text/plain": [
              "       freq  freq_ratio  length  ...  left_accessor_variety  starts_ratio  label\n",
              "0       352    0.000307       3  ...                     37            97      0\n",
              "1       232    0.000202       3  ...                     28           100      0\n",
              "2       256    0.000223       4  ...                     39           100      0\n",
              "3       148    0.000129       4  ...                     23           100      0\n",
              "4       136    0.000119       3  ...                     26            82      0\n",
              "...     ...         ...     ...  ...                    ...           ...    ...\n",
              "36615   140    0.000122       4  ...                      9           100      1\n",
              "36616   144    0.000125       4  ...                     20            91      1\n",
              "36617   394    0.000344       3  ...                     54           100      1\n",
              "36618   329    0.000287       2  ...                     45            83      1\n",
              "36619   706    0.000616       2  ...                     62           100      1\n",
              "\n",
              "[36620 rows x 9 columns]"
            ]
          },
          "metadata": {},
          "execution_count": 3
        }
      ]
    },
    {
      "cell_type": "code",
      "metadata": {
        "colab": {
          "base_uri": "https://localhost:8080/",
          "height": 419
        },
        "id": "Au8UycfZglGQ",
        "outputId": "10548595-be29-4169-df6b-2ba6e739e0e9"
      },
      "source": [
        "df = df1.drop(['freq_ratio'], axis = 1)\n",
        "df"
      ],
      "execution_count": null,
      "outputs": [
        {
          "output_type": "execute_result",
          "data": {
            "text/html": [
              "<div>\n",
              "<style scoped>\n",
              "    .dataframe tbody tr th:only-of-type {\n",
              "        vertical-align: middle;\n",
              "    }\n",
              "\n",
              "    .dataframe tbody tr th {\n",
              "        vertical-align: top;\n",
              "    }\n",
              "\n",
              "    .dataframe thead th {\n",
              "        text-align: right;\n",
              "    }\n",
              "</style>\n",
              "<table border=\"1\" class=\"dataframe\">\n",
              "  <thead>\n",
              "    <tr style=\"text-align: right;\">\n",
              "      <th></th>\n",
              "      <th>freq</th>\n",
              "      <th>length</th>\n",
              "      <th>cohesion_forward</th>\n",
              "      <th>left_branching_entropy</th>\n",
              "      <th>right_branching_entropy</th>\n",
              "      <th>left_accessor_variety</th>\n",
              "      <th>starts_ratio</th>\n",
              "      <th>label</th>\n",
              "    </tr>\n",
              "  </thead>\n",
              "  <tbody>\n",
              "    <tr>\n",
              "      <th>0</th>\n",
              "      <td>352</td>\n",
              "      <td>3</td>\n",
              "      <td>0.124943</td>\n",
              "      <td>3.087665</td>\n",
              "      <td>2.561511</td>\n",
              "      <td>37</td>\n",
              "      <td>97</td>\n",
              "      <td>0</td>\n",
              "    </tr>\n",
              "    <tr>\n",
              "      <th>1</th>\n",
              "      <td>232</td>\n",
              "      <td>3</td>\n",
              "      <td>0.055058</td>\n",
              "      <td>3.011088</td>\n",
              "      <td>0.948307</td>\n",
              "      <td>28</td>\n",
              "      <td>100</td>\n",
              "      <td>0</td>\n",
              "    </tr>\n",
              "    <tr>\n",
              "      <th>2</th>\n",
              "      <td>256</td>\n",
              "      <td>4</td>\n",
              "      <td>0.136442</td>\n",
              "      <td>3.404558</td>\n",
              "      <td>2.785716</td>\n",
              "      <td>39</td>\n",
              "      <td>100</td>\n",
              "      <td>0</td>\n",
              "    </tr>\n",
              "    <tr>\n",
              "      <th>3</th>\n",
              "      <td>148</td>\n",
              "      <td>4</td>\n",
              "      <td>0.170890</td>\n",
              "      <td>2.907327</td>\n",
              "      <td>2.910103</td>\n",
              "      <td>23</td>\n",
              "      <td>100</td>\n",
              "      <td>0</td>\n",
              "    </tr>\n",
              "    <tr>\n",
              "      <th>4</th>\n",
              "      <td>136</td>\n",
              "      <td>3</td>\n",
              "      <td>0.070635</td>\n",
              "      <td>3.233183</td>\n",
              "      <td>2.799973</td>\n",
              "      <td>26</td>\n",
              "      <td>82</td>\n",
              "      <td>0</td>\n",
              "    </tr>\n",
              "    <tr>\n",
              "      <th>...</th>\n",
              "      <td>...</td>\n",
              "      <td>...</td>\n",
              "      <td>...</td>\n",
              "      <td>...</td>\n",
              "      <td>...</td>\n",
              "      <td>...</td>\n",
              "      <td>...</td>\n",
              "      <td>...</td>\n",
              "    </tr>\n",
              "    <tr>\n",
              "      <th>36615</th>\n",
              "      <td>140</td>\n",
              "      <td>4</td>\n",
              "      <td>0.221532</td>\n",
              "      <td>1.579637</td>\n",
              "      <td>1.413289</td>\n",
              "      <td>9</td>\n",
              "      <td>100</td>\n",
              "      <td>1</td>\n",
              "    </tr>\n",
              "    <tr>\n",
              "      <th>36616</th>\n",
              "      <td>144</td>\n",
              "      <td>4</td>\n",
              "      <td>0.940361</td>\n",
              "      <td>2.781463</td>\n",
              "      <td>2.651950</td>\n",
              "      <td>20</td>\n",
              "      <td>91</td>\n",
              "      <td>1</td>\n",
              "    </tr>\n",
              "    <tr>\n",
              "      <th>36617</th>\n",
              "      <td>394</td>\n",
              "      <td>3</td>\n",
              "      <td>0.083799</td>\n",
              "      <td>3.733868</td>\n",
              "      <td>3.434715</td>\n",
              "      <td>54</td>\n",
              "      <td>100</td>\n",
              "      <td>1</td>\n",
              "    </tr>\n",
              "    <tr>\n",
              "      <th>36618</th>\n",
              "      <td>329</td>\n",
              "      <td>2</td>\n",
              "      <td>0.460552</td>\n",
              "      <td>3.534511</td>\n",
              "      <td>3.402091</td>\n",
              "      <td>45</td>\n",
              "      <td>83</td>\n",
              "      <td>1</td>\n",
              "    </tr>\n",
              "    <tr>\n",
              "      <th>36619</th>\n",
              "      <td>706</td>\n",
              "      <td>2</td>\n",
              "      <td>0.234674</td>\n",
              "      <td>3.442051</td>\n",
              "      <td>2.940817</td>\n",
              "      <td>62</td>\n",
              "      <td>100</td>\n",
              "      <td>1</td>\n",
              "    </tr>\n",
              "  </tbody>\n",
              "</table>\n",
              "<p>36620 rows × 8 columns</p>\n",
              "</div>"
            ],
            "text/plain": [
              "       freq  length  ...  starts_ratio  label\n",
              "0       352       3  ...            97      0\n",
              "1       232       3  ...           100      0\n",
              "2       256       4  ...           100      0\n",
              "3       148       4  ...           100      0\n",
              "4       136       3  ...            82      0\n",
              "...     ...     ...  ...           ...    ...\n",
              "36615   140       4  ...           100      1\n",
              "36616   144       4  ...            91      1\n",
              "36617   394       3  ...           100      1\n",
              "36618   329       2  ...            83      1\n",
              "36619   706       2  ...           100      1\n",
              "\n",
              "[36620 rows x 8 columns]"
            ]
          },
          "metadata": {},
          "execution_count": 4
        }
      ]
    },
    {
      "cell_type": "code",
      "metadata": {
        "id": "fOIxil2s-XQN"
      },
      "source": [
        "from sklearn.model_selection import train_test_split\n",
        "\n",
        "X = df[df.columns[0:7]].values #label 빼고 나머지 변수를 독립변수 X로.\n",
        "y = df['label'].values\n",
        "\n",
        "X_train, X_test, y_train, y_test = train_test_split(\n",
        "    X, y, test_size = 0.3, random_state = 1 # train : test = 70 : 30으로 하겠다, random_state는 train, test 뽑을 때마다 랜덤 ㄴㄴ 고정 시키겠다\n",
        ")"
      ],
      "execution_count": null,
      "outputs": []
    },
    {
      "cell_type": "code",
      "metadata": {
        "colab": {
          "base_uri": "https://localhost:8080/"
        },
        "id": "4N4qYwW69AFI",
        "outputId": "dd07e193-cce2-4134-b591-7d9dfe87b42d"
      },
      "source": [
        "from sklearn.linear_model import LogisticRegression\n",
        "\n",
        "log = LogisticRegression()\n",
        "\n",
        "#모델의 정확도 확인\n",
        "log.fit(X_train, y_train)\n",
        "print('train 데이터셋의 정확도: %.2f' % log.score(X_train, y_train))\n",
        "print('test 데이터셋의 정확도: %.2f' % log.score(X_test, y_test))"
      ],
      "execution_count": null,
      "outputs": [
        {
          "output_type": "stream",
          "text": [
            "train 데이터셋의 정확도: 0.72\n",
            "test 데이터셋의 정확도: 0.72\n"
          ],
          "name": "stdout"
        },
        {
          "output_type": "stream",
          "text": [
            "/usr/local/lib/python3.7/dist-packages/sklearn/linear_model/_logistic.py:940: ConvergenceWarning: lbfgs failed to converge (status=1):\n",
            "STOP: TOTAL NO. of ITERATIONS REACHED LIMIT.\n",
            "\n",
            "Increase the number of iterations (max_iter) or scale the data as shown in:\n",
            "    https://scikit-learn.org/stable/modules/preprocessing.html\n",
            "Please also refer to the documentation for alternative solver options:\n",
            "    https://scikit-learn.org/stable/modules/linear_model.html#logistic-regression\n",
            "  extra_warning_msg=_LOGISTIC_SOLVER_CONVERGENCE_MSG)\n"
          ],
          "name": "stderr"
        }
      ]
    },
    {
      "cell_type": "code",
      "metadata": {
        "colab": {
          "base_uri": "https://localhost:8080/"
        },
        "id": "dp5A5B2r9LxZ",
        "outputId": "f1481260-0584-4728-ee07-c19159446fb4"
      },
      "source": [
        "#더 자세한 평가 위해 classification_report모듈 사용\n",
        "#모형 성능평가 위한 모듈. 정밀도(precision), 재현율(recall), F1-score, support를 구해줌\n",
        "#https://sumniya.tistory.com/26\n",
        "from sklearn.metrics import classification_report\n",
        "y_pred = log.predict(X_test)\n",
        "print(classification_report(y_test, y_pred))"
      ],
      "execution_count": null,
      "outputs": [
        {
          "output_type": "stream",
          "text": [
            "              precision    recall  f1-score   support\n",
            "\n",
            "           0       0.75      0.68      0.71      5516\n",
            "           1       0.70      0.77      0.73      5470\n",
            "\n",
            "    accuracy                           0.72     10986\n",
            "   macro avg       0.72      0.72      0.72     10986\n",
            "weighted avg       0.73      0.72      0.72     10986\n",
            "\n"
          ],
          "name": "stdout"
        }
      ]
    },
    {
      "cell_type": "code",
      "metadata": {
        "colab": {
          "base_uri": "https://localhost:8080/"
        },
        "id": "XdjNATSX9PMG",
        "outputId": "74221d0f-99a2-465d-9f3a-ab71030499c2"
      },
      "source": [
        "#모델의 회귀계수와 오즈비를 구해 독립변수가 분류 결정에 미치는 영향의 정도를 알아보기 위해 다른 방식의 로지스틱회귀분석 진행\n",
        "import statsmodels.api as sm\n",
        "\n",
        "X = sm.add_constant(X, has_constant='add')#상수항 추가\n",
        "logit = sm.Logit(df[['label']],X)\n",
        "result = logit.fit()"
      ],
      "execution_count": null,
      "outputs": [
        {
          "output_type": "stream",
          "text": [
            "/usr/local/lib/python3.7/dist-packages/statsmodels/tools/_testing.py:19: FutureWarning: pandas.util.testing is deprecated. Use the functions in the public API at pandas.testing instead.\n",
            "  import pandas.util.testing as tm\n"
          ],
          "name": "stderr"
        },
        {
          "output_type": "stream",
          "text": [
            "Optimization terminated successfully.\n",
            "         Current function value: 0.523233\n",
            "         Iterations 7\n"
          ],
          "name": "stdout"
        }
      ]
    },
    {
      "cell_type": "code",
      "metadata": {
        "colab": {
          "base_uri": "https://localhost:8080/",
          "height": 374
        },
        "id": "TClTSZ6-9VX4",
        "outputId": "90056eba-750d-4968-d7a1-6586b34eb5ef"
      },
      "source": [
        "#이거 안 돌려도 됨 걍 내가 궁금해서 돌려본거임\n",
        "result.summary()"
      ],
      "execution_count": null,
      "outputs": [
        {
          "output_type": "execute_result",
          "data": {
            "text/html": [
              "<table class=\"simpletable\">\n",
              "<caption>Logit Regression Results</caption>\n",
              "<tr>\n",
              "  <th>Dep. Variable:</th>         <td>label</td>      <th>  No. Observations:  </th>  <td> 36620</td> \n",
              "</tr>\n",
              "<tr>\n",
              "  <th>Model:</th>                 <td>Logit</td>      <th>  Df Residuals:      </th>  <td> 36612</td> \n",
              "</tr>\n",
              "<tr>\n",
              "  <th>Method:</th>                 <td>MLE</td>       <th>  Df Model:          </th>  <td>     7</td> \n",
              "</tr>\n",
              "<tr>\n",
              "  <th>Date:</th>            <td>Fri, 20 Aug 2021</td> <th>  Pseudo R-squ.:     </th>  <td>0.2451</td> \n",
              "</tr>\n",
              "<tr>\n",
              "  <th>Time:</th>                <td>07:33:20</td>     <th>  Log-Likelihood:    </th> <td> -19161.</td>\n",
              "</tr>\n",
              "<tr>\n",
              "  <th>converged:</th>             <td>True</td>       <th>  LL-Null:           </th> <td> -25383.</td>\n",
              "</tr>\n",
              "<tr>\n",
              "  <th>Covariance Type:</th>     <td>nonrobust</td>    <th>  LLR p-value:       </th>  <td> 0.000</td> \n",
              "</tr>\n",
              "</table>\n",
              "<table class=\"simpletable\">\n",
              "<tr>\n",
              "    <td></td>       <th>coef</th>     <th>std err</th>      <th>z</th>      <th>P>|z|</th>  <th>[0.025</th>    <th>0.975]</th>  \n",
              "</tr>\n",
              "<tr>\n",
              "  <th>const</th> <td>   -7.2037</td> <td>    0.191</td> <td>  -37.788</td> <td> 0.000</td> <td>   -7.577</td> <td>   -6.830</td>\n",
              "</tr>\n",
              "<tr>\n",
              "  <th>x1</th>    <td>   -0.0001</td> <td> 1.25e-05</td> <td>  -11.665</td> <td> 0.000</td> <td>   -0.000</td> <td>   -0.000</td>\n",
              "</tr>\n",
              "<tr>\n",
              "  <th>x2</th>    <td>   -0.8245</td> <td>    0.019</td> <td>  -44.180</td> <td> 0.000</td> <td>   -0.861</td> <td>   -0.788</td>\n",
              "</tr>\n",
              "<tr>\n",
              "  <th>x3</th>    <td>    4.0910</td> <td>    0.129</td> <td>   31.729</td> <td> 0.000</td> <td>    3.838</td> <td>    4.344</td>\n",
              "</tr>\n",
              "<tr>\n",
              "  <th>x4</th>    <td>   -0.5350</td> <td>    0.023</td> <td>  -22.930</td> <td> 0.000</td> <td>   -0.581</td> <td>   -0.489</td>\n",
              "</tr>\n",
              "<tr>\n",
              "  <th>x5</th>    <td>    0.9207</td> <td>    0.013</td> <td>   68.791</td> <td> 0.000</td> <td>    0.895</td> <td>    0.947</td>\n",
              "</tr>\n",
              "<tr>\n",
              "  <th>x6</th>    <td>    0.0040</td> <td>    0.001</td> <td>    6.937</td> <td> 0.000</td> <td>    0.003</td> <td>    0.005</td>\n",
              "</tr>\n",
              "<tr>\n",
              "  <th>x7</th>    <td>    0.0877</td> <td>    0.002</td> <td>   50.151</td> <td> 0.000</td> <td>    0.084</td> <td>    0.091</td>\n",
              "</tr>\n",
              "</table>"
            ],
            "text/plain": [
              "<class 'statsmodels.iolib.summary.Summary'>\n",
              "\"\"\"\n",
              "                           Logit Regression Results                           \n",
              "==============================================================================\n",
              "Dep. Variable:                  label   No. Observations:                36620\n",
              "Model:                          Logit   Df Residuals:                    36612\n",
              "Method:                           MLE   Df Model:                            7\n",
              "Date:                Fri, 20 Aug 2021   Pseudo R-squ.:                  0.2451\n",
              "Time:                        07:33:20   Log-Likelihood:                -19161.\n",
              "converged:                       True   LL-Null:                       -25383.\n",
              "Covariance Type:            nonrobust   LLR p-value:                     0.000\n",
              "==============================================================================\n",
              "                 coef    std err          z      P>|z|      [0.025      0.975]\n",
              "------------------------------------------------------------------------------\n",
              "const         -7.2037      0.191    -37.788      0.000      -7.577      -6.830\n",
              "x1            -0.0001   1.25e-05    -11.665      0.000      -0.000      -0.000\n",
              "x2            -0.8245      0.019    -44.180      0.000      -0.861      -0.788\n",
              "x3             4.0910      0.129     31.729      0.000       3.838       4.344\n",
              "x4            -0.5350      0.023    -22.930      0.000      -0.581      -0.489\n",
              "x5             0.9207      0.013     68.791      0.000       0.895       0.947\n",
              "x6             0.0040      0.001      6.937      0.000       0.003       0.005\n",
              "x7             0.0877      0.002     50.151      0.000       0.084       0.091\n",
              "==============================================================================\n",
              "\"\"\""
            ]
          },
          "metadata": {},
          "execution_count": 9
        }
      ]
    },
    {
      "cell_type": "code",
      "metadata": {
        "colab": {
          "base_uri": "https://localhost:8080/",
          "height": 378
        },
        "id": "XX1UdnHb9Xl9",
        "outputId": "934d527e-be83-4bb6-cdce-503aeac9c681"
      },
      "source": [
        "result.summary2()"
      ],
      "execution_count": null,
      "outputs": [
        {
          "output_type": "execute_result",
          "data": {
            "text/html": [
              "<table class=\"simpletable\">\n",
              "<tr>\n",
              "        <td>Model:</td>              <td>Logit</td>      <td>Pseudo R-squared:</td>    <td>0.245</td>  \n",
              "</tr>\n",
              "<tr>\n",
              "  <td>Dependent Variable:</td>       <td>label</td>            <td>AIC:</td>        <td>38337.5936</td>\n",
              "</tr>\n",
              "<tr>\n",
              "         <td>Date:</td>        <td>2021-08-20 07:33</td>       <td>BIC:</td>        <td>38405.6604</td>\n",
              "</tr>\n",
              "<tr>\n",
              "   <td>No. Observations:</td>        <td>36620</td>       <td>Log-Likelihood:</td>    <td>-19161.</td> \n",
              "</tr>\n",
              "<tr>\n",
              "       <td>Df Model:</td>              <td>7</td>            <td>LL-Null:</td>        <td>-25383.</td> \n",
              "</tr>\n",
              "<tr>\n",
              "     <td>Df Residuals:</td>          <td>36612</td>        <td>LLR p-value:</td>      <td>0.0000</td>  \n",
              "</tr>\n",
              "<tr>\n",
              "      <td>Converged:</td>           <td>1.0000</td>           <td>Scale:</td>         <td>1.0000</td>  \n",
              "</tr>\n",
              "<tr>\n",
              "    <td>No. Iterations:</td>        <td>7.0000</td>              <td></td>               <td></td>     \n",
              "</tr>\n",
              "</table>\n",
              "<table class=\"simpletable\">\n",
              "<tr>\n",
              "    <td></td>     <th>Coef.</th>  <th>Std.Err.</th>     <th>z</th>     <th>P>|z|</th> <th>[0.025</th>  <th>0.975]</th> \n",
              "</tr>\n",
              "<tr>\n",
              "  <th>const</th> <td>-7.2037</td>  <td>0.1906</td>  <td>-37.7881</td> <td>0.0000</td> <td>-7.5773</td> <td>-6.8300</td>\n",
              "</tr>\n",
              "<tr>\n",
              "  <th>x1</th>    <td>-0.0001</td>  <td>0.0000</td>  <td>-11.6648</td> <td>0.0000</td> <td>-0.0002</td> <td>-0.0001</td>\n",
              "</tr>\n",
              "<tr>\n",
              "  <th>x2</th>    <td>-0.8245</td>  <td>0.0187</td>  <td>-44.1804</td> <td>0.0000</td> <td>-0.8611</td> <td>-0.7880</td>\n",
              "</tr>\n",
              "<tr>\n",
              "  <th>x3</th>    <td>4.0910</td>   <td>0.1289</td>   <td>31.7287</td> <td>0.0000</td> <td>3.8383</td>  <td>4.3437</td> \n",
              "</tr>\n",
              "<tr>\n",
              "  <th>x4</th>    <td>-0.5350</td>  <td>0.0233</td>  <td>-22.9302</td> <td>0.0000</td> <td>-0.5807</td> <td>-0.4892</td>\n",
              "</tr>\n",
              "<tr>\n",
              "  <th>x5</th>    <td>0.9207</td>   <td>0.0134</td>   <td>68.7911</td> <td>0.0000</td> <td>0.8945</td>  <td>0.9470</td> \n",
              "</tr>\n",
              "<tr>\n",
              "  <th>x6</th>    <td>0.0040</td>   <td>0.0006</td>   <td>6.9371</td>  <td>0.0000</td> <td>0.0028</td>  <td>0.0051</td> \n",
              "</tr>\n",
              "<tr>\n",
              "  <th>x7</th>    <td>0.0877</td>   <td>0.0017</td>   <td>50.1505</td> <td>0.0000</td> <td>0.0843</td>  <td>0.0911</td> \n",
              "</tr>\n",
              "</table>"
            ],
            "text/plain": [
              "<class 'statsmodels.iolib.summary2.Summary'>\n",
              "\"\"\"\n",
              "                         Results: Logit\n",
              "=================================================================\n",
              "Model:              Logit            Pseudo R-squared: 0.245     \n",
              "Dependent Variable: label            AIC:              38337.5936\n",
              "Date:               2021-08-20 07:33 BIC:              38405.6604\n",
              "No. Observations:   36620            Log-Likelihood:   -19161.   \n",
              "Df Model:           7                LL-Null:          -25383.   \n",
              "Df Residuals:       36612            LLR p-value:      0.0000    \n",
              "Converged:          1.0000           Scale:            1.0000    \n",
              "No. Iterations:     7.0000                                       \n",
              "-------------------------------------------------------------------\n",
              "          Coef.    Std.Err.      z       P>|z|     [0.025    0.975]\n",
              "-------------------------------------------------------------------\n",
              "const    -7.2037     0.1906   -37.7881   0.0000   -7.5773   -6.8300\n",
              "x1       -0.0001     0.0000   -11.6648   0.0000   -0.0002   -0.0001\n",
              "x2       -0.8245     0.0187   -44.1804   0.0000   -0.8611   -0.7880\n",
              "x3        4.0910     0.1289    31.7287   0.0000    3.8383    4.3437\n",
              "x4       -0.5350     0.0233   -22.9302   0.0000   -0.5807   -0.4892\n",
              "x5        0.9207     0.0134    68.7911   0.0000    0.8945    0.9470\n",
              "x6        0.0040     0.0006     6.9371   0.0000    0.0028    0.0051\n",
              "x7        0.0877     0.0017    50.1505   0.0000    0.0843    0.0911\n",
              "=================================================================\n",
              "\n",
              "\"\"\""
            ]
          },
          "metadata": {},
          "execution_count": 10
        }
      ]
    },
    {
      "cell_type": "code",
      "metadata": {
        "colab": {
          "base_uri": "https://localhost:8080/"
        },
        "id": "1IA3xb-49aBq",
        "outputId": "353f4acf-7da2-4408-e33e-94f5e60c42be"
      },
      "source": [
        "#오즈비 구하기\n",
        "#1에서부터 멀리 떨어질수록 종속변수와의 관계가 강함(큰 영향 줌)\n",
        "#아무런 관계가 없을 때 오즈비는 1\n",
        "np.exp(result.params)"
      ],
      "execution_count": null,
      "outputs": [
        {
          "output_type": "execute_result",
          "data": {
            "text/plain": [
              "const     0.000744\n",
              "x1        0.999854\n",
              "x2        0.438436\n",
              "x3       59.798321\n",
              "x4        0.585690\n",
              "x5        2.511164\n",
              "x6        1.003966\n",
              "x7        1.091662\n",
              "dtype: float64"
            ]
          },
          "metadata": {},
          "execution_count": 11
        }
      ]
    },
    {
      "cell_type": "markdown",
      "metadata": {
        "id": "6Qr1Cq8_cAlw"
      },
      "source": [
        "위에서 구한 오즈비를 통해\n",
        "\n",
        "x3, x5, x7, x6, x1, x4, x2 순으로 종속변수에 큰 영향을 미친다는 것을 알 수 있음"
      ]
    },
    {
      "cell_type": "code",
      "metadata": {
        "colab": {
          "base_uri": "https://localhost:8080/"
        },
        "id": "G3H8MhYkJNSP",
        "outputId": "99fcd5a9-0f9d-4110-a869-84fba1817e9a"
      },
      "source": [
        "from sklearn.linear_model import LogisticRegression\n",
        "\n",
        "classifier = LogisticRegression()\n",
        "classifier.fit(X_train, y_train)\n",
        "\n",
        "print(\"Intercept: \", classifier.intercept_)\n",
        "print(\"Parameter: \", classifier.coef_)"
      ],
      "execution_count": null,
      "outputs": [
        {
          "output_type": "stream",
          "text": [
            "Intercept:  [-0.36898248]\n",
            "Parameter:  [[-2.68069055e-04 -9.77640782e-01  2.07855153e-01 -1.10470509e+00\n",
            "   7.75457309e-01  1.45088610e-02  4.70450854e-02]]\n"
          ],
          "name": "stdout"
        },
        {
          "output_type": "stream",
          "text": [
            "/usr/local/lib/python3.7/dist-packages/sklearn/linear_model/_logistic.py:940: ConvergenceWarning: lbfgs failed to converge (status=1):\n",
            "STOP: TOTAL NO. of ITERATIONS REACHED LIMIT.\n",
            "\n",
            "Increase the number of iterations (max_iter) or scale the data as shown in:\n",
            "    https://scikit-learn.org/stable/modules/preprocessing.html\n",
            "Please also refer to the documentation for alternative solver options:\n",
            "    https://scikit-learn.org/stable/modules/linear_model.html#logistic-regression\n",
            "  extra_warning_msg=_LOGISTIC_SOLVER_CONVERGENCE_MSG)\n"
          ],
          "name": "stderr"
        }
      ]
    },
    {
      "cell_type": "markdown",
      "metadata": {
        "id": "H-v0odUkJN4p"
      },
      "source": [
        "흠"
      ]
    },
    {
      "cell_type": "code",
      "metadata": {
        "id": "d1ZmFohSSSFi",
        "colab": {
          "base_uri": "https://localhost:8080/"
        },
        "outputId": "56262aef-e307-427e-b815-a092397840cf"
      },
      "source": [
        "! pip install soynlp"
      ],
      "execution_count": null,
      "outputs": [
        {
          "output_type": "stream",
          "text": [
            "Collecting soynlp\n",
            "  Downloading soynlp-0.0.493-py3-none-any.whl (416 kB)\n",
            "\u001b[?25l\r\u001b[K     |▉                               | 10 kB 22.0 MB/s eta 0:00:01\r\u001b[K     |█▋                              | 20 kB 26.5 MB/s eta 0:00:01\r\u001b[K     |██▍                             | 30 kB 12.2 MB/s eta 0:00:01\r\u001b[K     |███▏                            | 40 kB 9.3 MB/s eta 0:00:01\r\u001b[K     |████                            | 51 kB 5.0 MB/s eta 0:00:01\r\u001b[K     |████▊                           | 61 kB 5.4 MB/s eta 0:00:01\r\u001b[K     |█████▌                          | 71 kB 5.8 MB/s eta 0:00:01\r\u001b[K     |██████▎                         | 81 kB 6.5 MB/s eta 0:00:01\r\u001b[K     |███████                         | 92 kB 6.6 MB/s eta 0:00:01\r\u001b[K     |███████▉                        | 102 kB 5.2 MB/s eta 0:00:01\r\u001b[K     |████████▋                       | 112 kB 5.2 MB/s eta 0:00:01\r\u001b[K     |█████████▍                      | 122 kB 5.2 MB/s eta 0:00:01\r\u001b[K     |██████████▏                     | 133 kB 5.2 MB/s eta 0:00:01\r\u001b[K     |███████████                     | 143 kB 5.2 MB/s eta 0:00:01\r\u001b[K     |███████████▉                    | 153 kB 5.2 MB/s eta 0:00:01\r\u001b[K     |████████████▋                   | 163 kB 5.2 MB/s eta 0:00:01\r\u001b[K     |█████████████▍                  | 174 kB 5.2 MB/s eta 0:00:01\r\u001b[K     |██████████████▏                 | 184 kB 5.2 MB/s eta 0:00:01\r\u001b[K     |███████████████                 | 194 kB 5.2 MB/s eta 0:00:01\r\u001b[K     |███████████████▊                | 204 kB 5.2 MB/s eta 0:00:01\r\u001b[K     |████████████████▌               | 215 kB 5.2 MB/s eta 0:00:01\r\u001b[K     |█████████████████▎              | 225 kB 5.2 MB/s eta 0:00:01\r\u001b[K     |██████████████████              | 235 kB 5.2 MB/s eta 0:00:01\r\u001b[K     |██████████████████▉             | 245 kB 5.2 MB/s eta 0:00:01\r\u001b[K     |███████████████████▋            | 256 kB 5.2 MB/s eta 0:00:01\r\u001b[K     |████████████████████▍           | 266 kB 5.2 MB/s eta 0:00:01\r\u001b[K     |█████████████████████▎          | 276 kB 5.2 MB/s eta 0:00:01\r\u001b[K     |██████████████████████          | 286 kB 5.2 MB/s eta 0:00:01\r\u001b[K     |██████████████████████▉         | 296 kB 5.2 MB/s eta 0:00:01\r\u001b[K     |███████████████████████▋        | 307 kB 5.2 MB/s eta 0:00:01\r\u001b[K     |████████████████████████▍       | 317 kB 5.2 MB/s eta 0:00:01\r\u001b[K     |█████████████████████████▏      | 327 kB 5.2 MB/s eta 0:00:01\r\u001b[K     |██████████████████████████      | 337 kB 5.2 MB/s eta 0:00:01\r\u001b[K     |██████████████████████████▊     | 348 kB 5.2 MB/s eta 0:00:01\r\u001b[K     |███████████████████████████▌    | 358 kB 5.2 MB/s eta 0:00:01\r\u001b[K     |████████████████████████████▎   | 368 kB 5.2 MB/s eta 0:00:01\r\u001b[K     |█████████████████████████████   | 378 kB 5.2 MB/s eta 0:00:01\r\u001b[K     |█████████████████████████████▉  | 389 kB 5.2 MB/s eta 0:00:01\r\u001b[K     |██████████████████████████████▋ | 399 kB 5.2 MB/s eta 0:00:01\r\u001b[K     |███████████████████████████████▌| 409 kB 5.2 MB/s eta 0:00:01\r\u001b[K     |████████████████████████████████| 416 kB 5.2 MB/s \n",
            "\u001b[?25hRequirement already satisfied: scikit-learn>=0.20.0 in /usr/local/lib/python3.7/dist-packages (from soynlp) (0.22.2.post1)\n",
            "Requirement already satisfied: psutil>=5.0.1 in /usr/local/lib/python3.7/dist-packages (from soynlp) (5.4.8)\n",
            "Requirement already satisfied: numpy>=1.12.1 in /usr/local/lib/python3.7/dist-packages (from soynlp) (1.19.5)\n",
            "Requirement already satisfied: scipy>=1.1.0 in /usr/local/lib/python3.7/dist-packages (from soynlp) (1.4.1)\n",
            "Requirement already satisfied: joblib>=0.11 in /usr/local/lib/python3.7/dist-packages (from scikit-learn>=0.20.0->soynlp) (1.0.1)\n",
            "Installing collected packages: soynlp\n",
            "Successfully installed soynlp-0.0.493\n"
          ],
          "name": "stdout"
        }
      ]
    },
    {
      "cell_type": "code",
      "metadata": {
        "id": "pOUI4sLR_4A9"
      },
      "source": [
        "import re\n",
        "\n",
        "def text_preprocess(x): # 공백도 제외\n",
        "    text=[]\n",
        "    a = re.sub('[^가-힣\\\\s]', '',x)\n",
        "    for j in a.split():\n",
        "        text.append(j)\n",
        "    return ' '.join(text)"
      ],
      "execution_count": null,
      "outputs": []
    },
    {
      "cell_type": "code",
      "metadata": {
        "colab": {
          "base_uri": "https://localhost:8080/"
        },
        "id": "sOymECRM_7dE",
        "outputId": "df5659e3-efb9-4867-da47-36af011e83dd"
      },
      "source": [
        "n = int(input(\"몇 개의 문장을 입력하시겠습니까: \"))\n",
        "text = [\"\"] * n\n",
        "for i in range(n):\n",
        "    text[i] = input(\"추가할 문장을 입력하세요: \")\n",
        "    text[i] = (text[i] + '\\n') * 64"
      ],
      "execution_count": null,
      "outputs": [
        {
          "output_type": "stream",
          "text": [
            "몇 개의 문장을 입력하시겠습니까: 5\n",
            "추가할 문장을 입력하세요: 이거 개꿀잼이다\n",
            "추가할 문장을 입력하세요: 오늘 학교가다가 슈퍼카 봤다\n",
            "추가할 문장을 입력하세요: 오늘 폰 떨어뜨려서 맴찢이였어\n",
            "추가할 문장을 입력하세요: 갑자기 개가 달려와서 깜놀했어\n",
            "추가할 문장을 입력하세요: 가지 너무 극혐이야\n"
          ],
          "name": "stdout"
        }
      ]
    },
    {
      "cell_type": "code",
      "metadata": {
        "id": "99b3ldA2BbsU"
      },
      "source": [
        "! unzip -uq \"/content/drive/MyDrive/Project/raw_data/raw_data.zip\" -d /content/drive/MyDrive/Project/raw_data"
      ],
      "execution_count": null,
      "outputs": []
    },
    {
      "cell_type": "code",
      "metadata": {
        "colab": {
          "base_uri": "https://localhost:8080/",
          "height": 419
        },
        "id": "TVfB_vzK_90E",
        "outputId": "eacd45cd-19d9-4bab-922f-df84b34fe4a3"
      },
      "source": [
        "import pandas as pd\n",
        "\n",
        "eta_secret_labeled = pd.read_csv(\"/content/drive/MyDrive/데청캠-심화프로젝트/data/raw_data/df_에타_sisa.csv\")\n",
        "eta_sisa_labeled = pd.read_csv(\"/content/drive/MyDrive/데청캠-심화프로젝트/data/raw_data/df_에타_sisa.csv\")\n",
        "eta_global_labeled = pd.read_csv(\"/content/drive/MyDrive/데청캠-심화프로젝트/data/raw_data/Globalfree.csv\")\n",
        "deoku_labeled = pd.read_csv(\"/content/drive/MyDrive/데청캠-심화프로젝트/data/raw_data/deoku.csv\")\n",
        "ppomppu_labeled = pd.read_csv(\"/content/drive/MyDrive/데청캠-심화프로젝트/data/raw_data/ppomppu1.csv\")\n",
        "ppomppu2_labeled = pd.read_csv(\"/content/drive/MyDrive/데청캠-심화프로젝트/data/raw_data/ppomppu2.csv\")\n",
        "youtube_labeled = pd.read_csv(\"/content/drive/MyDrive/데청캠-심화프로젝트/data/raw_data/유튜브15개.csv\")\n",
        "navernews_labeled = pd.read_csv(\"/content/drive/MyDrive/데청캠-심화프로젝트/data/raw_data/navernews.csv\")\n",
        "nate_pann_labeled = pd.read_csv(\"/content/drive/MyDrive/데청캠-심화프로젝트/data/raw_data/네이트판_통합.csv\")\n",
        "dc_inside_labeled = pd.read_csv(\"/content/drive/MyDrive/데청캠-심화프로젝트/data/raw_data/df_DC_total.csv\")\n",
        "\n",
        "labeled_data_df = pd.concat([eta_secret_labeled, eta_sisa_labeled],ignore_index=True)\n",
        "labeled_data_df = pd.concat([labeled_data_df, eta_global_labeled],ignore_index=True)\n",
        "labeled_data_df = pd.concat([labeled_data_df, deoku_labeled],ignore_index=True)\n",
        "labeled_data_df = pd.concat([labeled_data_df, ppomppu_labeled],ignore_index=True)\n",
        "labeled_data_df = pd.concat([labeled_data_df, ppomppu2_labeled],ignore_index=True)\n",
        "labeled_data_df = pd.concat([labeled_data_df, youtube_labeled],ignore_index=True)\n",
        "labeled_data_df = pd.concat([labeled_data_df, navernews_labeled],ignore_index=True)\n",
        "labeled_data_df = pd.concat([labeled_data_df, nate_pann_labeled],ignore_index=True)\n",
        "labeled_data_df = pd.concat([labeled_data_df, dc_inside_labeled],ignore_index=True)\n",
        "\n",
        "for column in labeled_data_df.columns:\n",
        "    if column != 'comment':\n",
        "        labeled_data_df = labeled_data_df.drop(column, axis=1)\n",
        "\n",
        "labeled_data_df.to_csv(\"/content/drive/MyDrive/데청캠-심화프로젝트/data/total_data.csv\", encoding='utf-8-sig', index=False)\n",
        "\n",
        "labeled_data_df"
      ],
      "execution_count": null,
      "outputs": [
        {
          "output_type": "execute_result",
          "data": {
            "text/html": [
              "<div>\n",
              "<style scoped>\n",
              "    .dataframe tbody tr th:only-of-type {\n",
              "        vertical-align: middle;\n",
              "    }\n",
              "\n",
              "    .dataframe tbody tr th {\n",
              "        vertical-align: top;\n",
              "    }\n",
              "\n",
              "    .dataframe thead th {\n",
              "        text-align: right;\n",
              "    }\n",
              "</style>\n",
              "<table border=\"1\" class=\"dataframe\">\n",
              "  <thead>\n",
              "    <tr style=\"text-align: right;\">\n",
              "      <th></th>\n",
              "      <th>comment</th>\n",
              "    </tr>\n",
              "  </thead>\n",
              "  <tbody>\n",
              "    <tr>\n",
              "      <th>0</th>\n",
              "      <td>문재인 국정 지지도 40% 신기하네....</td>\n",
              "    </tr>\n",
              "    <tr>\n",
              "      <th>1</th>\n",
              "      <td>민주당 뽑았던 내가 돌아선이유 상황이 이런데 맨날 변명 말돌리기 백신수급 문제없고 ...</td>\n",
              "    </tr>\n",
              "    <tr>\n",
              "      <th>2</th>\n",
              "      <td>이준석이 페미 여자표 다까먹는다고?? 전주 대비 3% 상승하여 민주당 역전.  어차...</td>\n",
              "    </tr>\n",
              "    <tr>\n",
              "      <th>3</th>\n",
              "      <td>홍은 안되는거 진짜 모르겠냐.. 시절인연이라는 것도 있듯이.. 되려면 직전에 됐어야...</td>\n",
              "    </tr>\n",
              "    <tr>\n",
              "      <th>4</th>\n",
              "      <td>솔직히 경선 시작되면 홍이 팍 치고 올라올 것 같음 지금은 야권에서 윤이 가장 압도...</td>\n",
              "    </tr>\n",
              "    <tr>\n",
              "      <th>...</th>\n",
              "      <td>...</td>\n",
              "    </tr>\n",
              "    <tr>\n",
              "      <th>1995730</th>\n",
              "      <td>야갤하는 여자는 도대체 어떤 인생을 사는 걸까</td>\n",
              "    </tr>\n",
              "    <tr>\n",
              "      <th>1995731</th>\n",
              "      <td>섹스</td>\n",
              "    </tr>\n",
              "    <tr>\n",
              "      <th>1995732</th>\n",
              "      <td>pp</td>\n",
              "    </tr>\n",
              "    <tr>\n",
              "      <th>1995733</th>\n",
              "      <td>흐읏흥</td>\n",
              "    </tr>\n",
              "    <tr>\n",
              "      <th>1995734</th>\n",
              "      <td>여친 그려봄 이쁘냐?</td>\n",
              "    </tr>\n",
              "  </tbody>\n",
              "</table>\n",
              "<p>1995735 rows × 1 columns</p>\n",
              "</div>"
            ],
            "text/plain": [
              "                                                   comment\n",
              "0                                  문재인 국정 지지도 40% 신기하네....\n",
              "1        민주당 뽑았던 내가 돌아선이유 상황이 이런데 맨날 변명 말돌리기 백신수급 문제없고 ...\n",
              "2        이준석이 페미 여자표 다까먹는다고?? 전주 대비 3% 상승하여 민주당 역전.  어차...\n",
              "3        홍은 안되는거 진짜 모르겠냐.. 시절인연이라는 것도 있듯이.. 되려면 직전에 됐어야...\n",
              "4        솔직히 경선 시작되면 홍이 팍 치고 올라올 것 같음 지금은 야권에서 윤이 가장 압도...\n",
              "...                                                    ...\n",
              "1995730                          야갤하는 여자는 도대체 어떤 인생을 사는 걸까\n",
              "1995731                                                 섹스\n",
              "1995732                                                 pp\n",
              "1995733                                                흐읏흥\n",
              "1995734                                        여친 그려봄 이쁘냐?\n",
              "\n",
              "[1995735 rows x 1 columns]"
            ]
          },
          "metadata": {},
          "execution_count": 22
        }
      ]
    },
    {
      "cell_type": "code",
      "metadata": {
        "id": "Hl72LMqVDwXJ"
      },
      "source": [
        "from soynlp import DoublespaceLineCorpus\n",
        "from soynlp.word import WordExtractor\n",
        "import pandas as pd\n",
        "\n",
        "df = labeled_data_df # pd.read_csv(\"/content/drive/MyDrive/Project/total_data.csv\", encoding=\"utf-8\", engine=\"python\") # raw data 불러오기\n",
        "\n",
        "train_corpus = \"\" # raw data를 쭉이을 빈 문자열\n",
        "\n",
        "df['comment'] = df['comment'].apply(lambda x: str(x))\n",
        "df['process'] = df['comment'].apply(lambda x: text_preprocess(x)) # 불필요한 문자 제거\n",
        "\n",
        "for i in range(len(df['process'])):\n",
        "    train_corpus += df['process'][i] + '\\n' # 문자열을 쭉 이음.\n",
        "\n",
        "for i in range(2):\n",
        "    train_corpus += train_corpus + '\\n'"
      ],
      "execution_count": null,
      "outputs": []
    },
    {
      "cell_type": "code",
      "metadata": {
        "id": "gKjiPWnGD1gh"
      },
      "source": [
        "with open(\"/content/drive/MyDrive/데청캠-심화프로젝트/data/train_corpus.txt\", 'w') as file: # txt 파일로 저장\n",
        "    file.write(train_corpus)"
      ],
      "execution_count": null,
      "outputs": []
    },
    {
      "cell_type": "code",
      "metadata": {
        "colab": {
          "base_uri": "https://localhost:8080/"
        },
        "id": "nVdhoegPELar",
        "outputId": "14fa2221-add7-4e76-ad19-fab4682d92e2"
      },
      "source": [
        "train_corpus = DoublespaceLineCorpus(\"/content/drive/MyDrive/데청캠-심화프로젝트/data/train_corpus.txt\") # 저장한 txt 파일로 변환\n",
        "len(train_corpus)"
      ],
      "execution_count": null,
      "outputs": [
        {
          "output_type": "execute_result",
          "data": {
            "text/plain": [
              "7982943"
            ]
          },
          "metadata": {},
          "execution_count": 25
        }
      ]
    },
    {
      "cell_type": "code",
      "metadata": {
        "colab": {
          "base_uri": "https://localhost:8080/"
        },
        "id": "WPN5LnYOENBX",
        "outputId": "3feb1f9e-e450-4855-9fb0-980897046caa"
      },
      "source": [
        "# 코퍼스로 학습\n",
        "word_extractor = WordExtractor()\n",
        "word_extractor.train(train_corpus)\n",
        "word_score_table = word_extractor.extract()"
      ],
      "execution_count": null,
      "outputs": [
        {
          "output_type": "stream",
          "text": [
            "training was done. used memory 2.294 Gb\n",
            "all cohesion probabilities was computed. # words = 530752\n",
            "all branching entropies was computed # words = 1596511\n",
            "all accessor variety was computed # words = 1596511\n"
          ],
          "name": "stdout"
        }
      ]
    },
    {
      "cell_type": "code",
      "metadata": {
        "colab": {
          "base_uri": "https://localhost:8080/"
        },
        "id": "NqCcvDAVEOVk",
        "outputId": "0924c1ad-0298-4114-cfc7-3485dfb75d43"
      },
      "source": [
        "n = int(input(\"몇 개의 단어를 입력하시겠습니까: \"))\n",
        "text = [\"\"] * n\n",
        "\\ㅁ\n",
        "for i in range(n):\n",
        "    text[i] = input(\"기존 문장에 있던 단어를 입력하세요: \")"
      ],
      "execution_count": null,
      "outputs": [
        {
          "output_type": "stream",
          "text": [
            "몇 개의 단어를 입력하시겠습니까: 13\n",
            "기존 문장에 있던 단어를 입력하세요: 꿀잼\n",
            "기존 문장에 있던 단어를 입력하세요: 가지\n",
            "기존 문장에 있던 단어를 입력하세요: 너무\n",
            "기존 문장에 있던 단어를 입력하세요: 극혐\n",
            "기존 문장에 있던 단어를 입력하세요: 학교\n",
            "기존 문장에 있던 단어를 입력하세요: 맴찢\n",
            "기존 문장에 있던 단어를 입력하세요: 슈퍼카\n",
            "기존 문장에 있던 단어를 입력하세요: 오늘\n",
            "기존 문장에 있던 단어를 입력하세요: 가다가\n",
            "기존 문장에 있던 단어를 입력하세요: 봤다\n",
            "기존 문장에 있던 단어를 입력하세요: 했어\n",
            "기존 문장에 있던 단어를 입력하세요: 이야\n",
            "기존 문장에 있던 단어를 입력하세요: 이다\n"
          ],
          "name": "stdout"
        }
      ]
    },
    {
      "cell_type": "code",
      "metadata": {
        "colab": {
          "base_uri": "https://localhost:8080/",
          "height": 395
        },
        "id": "ceeAGAxMEPri",
        "outputId": "5c11ae57-4454-46cf-ee9b-7f5f48258f2d"
      },
      "source": [
        "tmp = text.copy()\n",
        "text = []\n",
        "for i in range(len(tmp)):\n",
        "    try:\n",
        "        word_score_table[tmp[i]].cohesion_forward\n",
        "        text.append(tmp[i])\n",
        "    except KeyError:\n",
        "        pass\n",
        "\n",
        "validation = {\n",
        "    \"words\": text\n",
        "}\n",
        "\n",
        "validation_df = pd.DataFrame(validation)\n",
        "validation_df['freq'] = validation_df['words'].apply(lambda x: word_score_table[x].leftside_frequency + word_score_table[x].rightside_frequency)\n",
        "#validation_df['freq_ratio'] = validation_df['freq'].apply(lambda x: (x / sum(list(validation_df['freq']))) * 100)\n",
        "validation_df['length'] = validation_df['words'].apply(lambda x: len(x))\n",
        "validation_df['cohesion_forward'] = validation_df['words'].apply(lambda x: word_score_table[x].cohesion_forward)\n",
        "validation_df['left_branching_entropy'] = validation_df['words'].apply(lambda x: word_score_table[x].left_branching_entropy)\n",
        "validation_df['right_branching_entropy'] = validation_df['words'].apply(lambda x: word_score_table[x].right_branching_entropy)\n",
        "validation_df['left_accessor_variety'] = validation_df['words'].apply(lambda x: word_score_table[x].left_accessor_variety)\n",
        "validation_df['starts_ratio'] = validation_df['words'].apply(lambda x: word_score_table[x].leftside_frequency)\n",
        "\n",
        "for i in range(len(validation_df['starts_ratio'])):\n",
        "    validation_df['starts_ratio'][i] = (validation_df['starts_ratio'][i] / validation_df['freq'][i]) * 100\n",
        "\n",
        "validation_df"
      ],
      "execution_count": null,
      "outputs": [
        {
          "output_type": "stream",
          "text": [
            "/usr/local/lib/python3.7/dist-packages/ipykernel_launcher.py:25: SettingWithCopyWarning: \n",
            "A value is trying to be set on a copy of a slice from a DataFrame\n",
            "\n",
            "See the caveats in the documentation: https://pandas.pydata.org/pandas-docs/stable/user_guide/indexing.html#returning-a-view-versus-a-copy\n"
          ],
          "name": "stderr"
        },
        {
          "output_type": "execute_result",
          "data": {
            "text/html": [
              "<div>\n",
              "<style scoped>\n",
              "    .dataframe tbody tr th:only-of-type {\n",
              "        vertical-align: middle;\n",
              "    }\n",
              "\n",
              "    .dataframe tbody tr th {\n",
              "        vertical-align: top;\n",
              "    }\n",
              "\n",
              "    .dataframe thead th {\n",
              "        text-align: right;\n",
              "    }\n",
              "</style>\n",
              "<table border=\"1\" class=\"dataframe\">\n",
              "  <thead>\n",
              "    <tr style=\"text-align: right;\">\n",
              "      <th></th>\n",
              "      <th>words</th>\n",
              "      <th>freq</th>\n",
              "      <th>length</th>\n",
              "      <th>cohesion_forward</th>\n",
              "      <th>left_branching_entropy</th>\n",
              "      <th>right_branching_entropy</th>\n",
              "      <th>left_accessor_variety</th>\n",
              "      <th>starts_ratio</th>\n",
              "    </tr>\n",
              "  </thead>\n",
              "  <tbody>\n",
              "    <tr>\n",
              "      <th>0</th>\n",
              "      <td>꿀잼</td>\n",
              "      <td>1276</td>\n",
              "      <td>2</td>\n",
              "      <td>0.211175</td>\n",
              "      <td>4.166356</td>\n",
              "      <td>3.603878</td>\n",
              "      <td>96</td>\n",
              "      <td>80</td>\n",
              "    </tr>\n",
              "    <tr>\n",
              "      <th>1</th>\n",
              "      <td>너무</td>\n",
              "      <td>57672</td>\n",
              "      <td>2</td>\n",
              "      <td>0.812609</td>\n",
              "      <td>4.643415</td>\n",
              "      <td>4.840593</td>\n",
              "      <td>642</td>\n",
              "      <td>96</td>\n",
              "    </tr>\n",
              "    <tr>\n",
              "      <th>2</th>\n",
              "      <td>극혐</td>\n",
              "      <td>864</td>\n",
              "      <td>2</td>\n",
              "      <td>0.096368</td>\n",
              "      <td>4.036975</td>\n",
              "      <td>2.973510</td>\n",
              "      <td>83</td>\n",
              "      <td>92</td>\n",
              "    </tr>\n",
              "    <tr>\n",
              "      <th>3</th>\n",
              "      <td>학교</td>\n",
              "      <td>9660</td>\n",
              "      <td>2</td>\n",
              "      <td>0.203434</td>\n",
              "      <td>4.182127</td>\n",
              "      <td>4.766682</td>\n",
              "      <td>287</td>\n",
              "      <td>52</td>\n",
              "    </tr>\n",
              "    <tr>\n",
              "      <th>4</th>\n",
              "      <td>맴찢</td>\n",
              "      <td>120</td>\n",
              "      <td>2</td>\n",
              "      <td>0.256410</td>\n",
              "      <td>3.122425</td>\n",
              "      <td>2.427353</td>\n",
              "      <td>24</td>\n",
              "      <td>100</td>\n",
              "    </tr>\n",
              "    <tr>\n",
              "      <th>5</th>\n",
              "      <td>슈퍼카</td>\n",
              "      <td>76</td>\n",
              "      <td>3</td>\n",
              "      <td>0.083578</td>\n",
              "      <td>2.625048</td>\n",
              "      <td>1.950409</td>\n",
              "      <td>15</td>\n",
              "      <td>100</td>\n",
              "    </tr>\n",
              "    <tr>\n",
              "      <th>6</th>\n",
              "      <td>오늘</td>\n",
              "      <td>74944</td>\n",
              "      <td>2</td>\n",
              "      <td>0.438947</td>\n",
              "      <td>5.266930</td>\n",
              "      <td>4.802966</td>\n",
              "      <td>767</td>\n",
              "      <td>98</td>\n",
              "    </tr>\n",
              "    <tr>\n",
              "      <th>7</th>\n",
              "      <td>봤다</td>\n",
              "      <td>1996</td>\n",
              "      <td>2</td>\n",
              "      <td>0.127631</td>\n",
              "      <td>4.046279</td>\n",
              "      <td>4.342866</td>\n",
              "      <td>99</td>\n",
              "      <td>57</td>\n",
              "    </tr>\n",
              "    <tr>\n",
              "      <th>8</th>\n",
              "      <td>했어</td>\n",
              "      <td>7460</td>\n",
              "      <td>2</td>\n",
              "      <td>0.092864</td>\n",
              "      <td>4.656190</td>\n",
              "      <td>4.816687</td>\n",
              "      <td>201</td>\n",
              "      <td>26</td>\n",
              "    </tr>\n",
              "  </tbody>\n",
              "</table>\n",
              "</div>"
            ],
            "text/plain": [
              "  words   freq  ...  left_accessor_variety  starts_ratio\n",
              "0    꿀잼   1276  ...                     96            80\n",
              "1    너무  57672  ...                    642            96\n",
              "2    극혐    864  ...                     83            92\n",
              "3    학교   9660  ...                    287            52\n",
              "4    맴찢    120  ...                     24           100\n",
              "5   슈퍼카     76  ...                     15           100\n",
              "6    오늘  74944  ...                    767            98\n",
              "7    봤다   1996  ...                     99            57\n",
              "8    했어   7460  ...                    201            26\n",
              "\n",
              "[9 rows x 8 columns]"
            ]
          },
          "metadata": {},
          "execution_count": 28
        }
      ]
    },
    {
      "cell_type": "code",
      "metadata": {
        "colab": {
          "base_uri": "https://localhost:8080/"
        },
        "id": "_lUVizCQCYAM",
        "outputId": "4348987d-4e89-45f3-ff77-bcda7d7bc48f"
      },
      "source": [
        "features = validation_df[validation_df.columns[1:8]].values\n",
        "features"
      ],
      "execution_count": null,
      "outputs": [
        {
          "output_type": "execute_result",
          "data": {
            "text/plain": [
              "array([[1.27600000e+03, 2.00000000e+00, 2.11175021e-01, 4.16635649e+00,\n",
              "        3.60387785e+00, 9.60000000e+01, 8.00000000e+01],\n",
              "       [5.76720000e+04, 2.00000000e+00, 8.12609253e-01, 4.64341513e+00,\n",
              "        4.84059265e+00, 6.42000000e+02, 9.60000000e+01],\n",
              "       [8.64000000e+02, 2.00000000e+00, 9.63680387e-02, 4.03697468e+00,\n",
              "        2.97351001e+00, 8.30000000e+01, 9.20000000e+01],\n",
              "       [9.66000000e+03, 2.00000000e+00, 2.03433754e-01, 4.18212662e+00,\n",
              "        4.76668247e+00, 2.87000000e+02, 5.20000000e+01],\n",
              "       [1.20000000e+02, 2.00000000e+00, 2.56410256e-01, 3.12242460e+00,\n",
              "        2.42735273e+00, 2.40000000e+01, 1.00000000e+02],\n",
              "       [7.60000000e+01, 3.00000000e+00, 8.35780720e-02, 2.62504816e+00,\n",
              "        1.95040950e+00, 1.50000000e+01, 1.00000000e+02],\n",
              "       [7.49440000e+04, 2.00000000e+00, 4.38947418e-01, 5.26693007e+00,\n",
              "        4.80296563e+00, 7.67000000e+02, 9.80000000e+01],\n",
              "       [1.99600000e+03, 2.00000000e+00, 1.27630990e-01, 4.04627910e+00,\n",
              "        4.34286586e+00, 9.90000000e+01, 5.70000000e+01],\n",
              "       [7.46000000e+03, 2.00000000e+00, 9.28639391e-02, 4.65618988e+00,\n",
              "        4.81668678e+00, 2.01000000e+02, 2.60000000e+01]])"
            ]
          },
          "metadata": {},
          "execution_count": 29
        }
      ]
    },
    {
      "cell_type": "code",
      "metadata": {
        "colab": {
          "base_uri": "https://localhost:8080/"
        },
        "id": "Wp3HbIQGJ6_A",
        "outputId": "c494853a-8f27-40a7-f5bd-7b100c451cb1"
      },
      "source": [
        "model = LogisticRegression()\n",
        "model.fit(X_train, y_train)"
      ],
      "execution_count": null,
      "outputs": [
        {
          "output_type": "stream",
          "text": [
            "/usr/local/lib/python3.7/dist-packages/sklearn/linear_model/_logistic.py:940: ConvergenceWarning: lbfgs failed to converge (status=1):\n",
            "STOP: TOTAL NO. of ITERATIONS REACHED LIMIT.\n",
            "\n",
            "Increase the number of iterations (max_iter) or scale the data as shown in:\n",
            "    https://scikit-learn.org/stable/modules/preprocessing.html\n",
            "Please also refer to the documentation for alternative solver options:\n",
            "    https://scikit-learn.org/stable/modules/linear_model.html#logistic-regression\n",
            "  extra_warning_msg=_LOGISTIC_SOLVER_CONVERGENCE_MSG)\n"
          ],
          "name": "stderr"
        },
        {
          "output_type": "execute_result",
          "data": {
            "text/plain": [
              "LogisticRegression(C=1.0, class_weight=None, dual=False, fit_intercept=True,\n",
              "                   intercept_scaling=1, l1_ratio=None, max_iter=100,\n",
              "                   multi_class='auto', n_jobs=None, penalty='l2',\n",
              "                   random_state=None, solver='lbfgs', tol=0.0001, verbose=0,\n",
              "                   warm_start=False)"
            ]
          },
          "metadata": {},
          "execution_count": 30
        }
      ]
    },
    {
      "cell_type": "code",
      "metadata": {
        "colab": {
          "base_uri": "https://localhost:8080/"
        },
        "id": "GiBbIM0YKYU_",
        "outputId": "44ea2b72-fa2e-4727-df69-36204bd55e08"
      },
      "source": [
        "print(model.score(X_train, y_train))"
      ],
      "execution_count": null,
      "outputs": [
        {
          "output_type": "stream",
          "text": [
            "0.7223219162050402\n"
          ],
          "name": "stdout"
        }
      ]
    },
    {
      "cell_type": "code",
      "metadata": {
        "colab": {
          "base_uri": "https://localhost:8080/"
        },
        "id": "LzLVLQoxKePe",
        "outputId": "fa186145-be18-431b-8afd-fc363cabb5a7"
      },
      "source": [
        "print(model.coef_)"
      ],
      "execution_count": null,
      "outputs": [
        {
          "output_type": "stream",
          "text": [
            "[[-2.68069055e-04 -9.77640782e-01  2.07855153e-01 -1.10470509e+00\n",
            "   7.75457309e-01  1.45088610e-02  4.70450854e-02]]\n"
          ],
          "name": "stdout"
        }
      ]
    },
    {
      "cell_type": "code",
      "metadata": {
        "colab": {
          "base_uri": "https://localhost:8080/"
        },
        "id": "M7T95gNiKiBP",
        "outputId": "243a662a-2b7b-4852-c4df-c9e9c5036587"
      },
      "source": [
        "val_pred = model.predict(features)\n",
        "print(val_pred)"
      ],
      "execution_count": null,
      "outputs": [
        {
          "output_type": "stream",
          "text": [
            "[1 0 1 1 1 1 0 1 0]\n"
          ],
          "name": "stdout"
        }
      ]
    },
    {
      "cell_type": "code",
      "metadata": {
        "colab": {
          "base_uri": "https://localhost:8080/",
          "height": 324
        },
        "id": "CgWEGIo2Kq6F",
        "outputId": "93ea08f2-eee3-473d-8a18-25e307ca5829"
      },
      "source": [
        "val_result = {\n",
        "    \"words\": text,\n",
        "    \"result\": val_pred\n",
        "}\n",
        "\n",
        "result_df = pd.DataFrame(val_result)\n",
        "result_df"
      ],
      "execution_count": null,
      "outputs": [
        {
          "output_type": "execute_result",
          "data": {
            "text/html": [
              "<div>\n",
              "<style scoped>\n",
              "    .dataframe tbody tr th:only-of-type {\n",
              "        vertical-align: middle;\n",
              "    }\n",
              "\n",
              "    .dataframe tbody tr th {\n",
              "        vertical-align: top;\n",
              "    }\n",
              "\n",
              "    .dataframe thead th {\n",
              "        text-align: right;\n",
              "    }\n",
              "</style>\n",
              "<table border=\"1\" class=\"dataframe\">\n",
              "  <thead>\n",
              "    <tr style=\"text-align: right;\">\n",
              "      <th></th>\n",
              "      <th>words</th>\n",
              "      <th>result</th>\n",
              "    </tr>\n",
              "  </thead>\n",
              "  <tbody>\n",
              "    <tr>\n",
              "      <th>0</th>\n",
              "      <td>꿀잼</td>\n",
              "      <td>1</td>\n",
              "    </tr>\n",
              "    <tr>\n",
              "      <th>1</th>\n",
              "      <td>너무</td>\n",
              "      <td>0</td>\n",
              "    </tr>\n",
              "    <tr>\n",
              "      <th>2</th>\n",
              "      <td>극혐</td>\n",
              "      <td>1</td>\n",
              "    </tr>\n",
              "    <tr>\n",
              "      <th>3</th>\n",
              "      <td>학교</td>\n",
              "      <td>1</td>\n",
              "    </tr>\n",
              "    <tr>\n",
              "      <th>4</th>\n",
              "      <td>맴찢</td>\n",
              "      <td>1</td>\n",
              "    </tr>\n",
              "    <tr>\n",
              "      <th>5</th>\n",
              "      <td>슈퍼카</td>\n",
              "      <td>1</td>\n",
              "    </tr>\n",
              "    <tr>\n",
              "      <th>6</th>\n",
              "      <td>오늘</td>\n",
              "      <td>0</td>\n",
              "    </tr>\n",
              "    <tr>\n",
              "      <th>7</th>\n",
              "      <td>봤다</td>\n",
              "      <td>1</td>\n",
              "    </tr>\n",
              "    <tr>\n",
              "      <th>8</th>\n",
              "      <td>했어</td>\n",
              "      <td>0</td>\n",
              "    </tr>\n",
              "  </tbody>\n",
              "</table>\n",
              "</div>"
            ],
            "text/plain": [
              "  words  result\n",
              "0    꿀잼       1\n",
              "1    너무       0\n",
              "2    극혐       1\n",
              "3    학교       1\n",
              "4    맴찢       1\n",
              "5   슈퍼카       1\n",
              "6    오늘       0\n",
              "7    봤다       1\n",
              "8    했어       0"
            ]
          },
          "metadata": {},
          "execution_count": 34
        }
      ]
    },
    {
      "cell_type": "code",
      "metadata": {
        "colab": {
          "base_uri": "https://localhost:8080/"
        },
        "id": "msI1PZZwLicu",
        "outputId": "c18efb01-fb56-4818-b21d-4b329a9b4956"
      },
      "source": [
        "print(model.score(X_test, y_test))"
      ],
      "execution_count": null,
      "outputs": [
        {
          "output_type": "stream",
          "text": [
            "0.7228290551611142\n"
          ],
          "name": "stdout"
        }
      ]
    },
    {
      "cell_type": "code",
      "metadata": {
        "id": "Vd9KgMUZiDK7"
      },
      "source": [
        "from sklearn.metrics import confusion_matrix, accuracy_score, precision_score, recall_score\n",
        "from sklearn.metrics import confusion_matrix, f1_score, roc_auc_score"
      ],
      "execution_count": null,
      "outputs": []
    },
    {
      "cell_type": "code",
      "metadata": {
        "id": "z0f1AOOHTjK2"
      },
      "source": [
        "def get_confusion(y_test, y_pred):\n",
        "    confusion = confusion_matrix(y_test, y_pred)\n",
        "    accuracy = accuracy_score(y_test, y_pred)\n",
        "    precision = precision_score(y_test, y_pred)\n",
        "    recall = recall_score(y_test, y_pred)\n",
        "    F1 = f1_score(y_test, y_pred)\n",
        "    AUC = roc_auc_score(y_test, y_pred)\n",
        "    print('오차행렬:\\n', confusion)\n",
        "    print('\\n정확도: {:.4f}'.format(accuracy))\n",
        "    print('정밀도: {:.4f}'.format(precision))\n",
        "    print('재현율: {:.4f}'.format(recall))\n",
        "    print('F1: {:.4f}'.format(F1))\n",
        "    print('AUC: {:.4f}'.format(AUC))"
      ],
      "execution_count": null,
      "outputs": []
    },
    {
      "cell_type": "code",
      "metadata": {
        "colab": {
          "base_uri": "https://localhost:8080/"
        },
        "id": "xx6dfmSvh2GM",
        "outputId": "ab802eea-2d3a-436e-9bcc-8843888a97b4"
      },
      "source": [
        "get_confusion(y_test, y_pred)"
      ],
      "execution_count": null,
      "outputs": [
        {
          "output_type": "stream",
          "text": [
            "오차행렬:\n",
            " [[3726 1790]\n",
            " [1255 4215]]\n",
            "\n",
            "정확도: 0.7228\n",
            "정밀도: 0.7019\n",
            "재현율: 0.7706\n",
            "F1: 0.7346\n",
            "AUC: 0.7230\n"
          ],
          "name": "stdout"
        }
      ]
    },
    {
      "cell_type": "code",
      "metadata": {
        "colab": {
          "base_uri": "https://localhost:8080/",
          "height": 324
        },
        "id": "P50w4riYjy2y",
        "outputId": "6b150ed1-f385-48f6-cfa0-7b656acfe6dd"
      },
      "source": [
        "val_result = {\n",
        "    \"words\": text,\n",
        "    \"result\": val_pred\n",
        "}\n",
        "\n",
        "result_df = pd.DataFrame(val_result)\n",
        "result_df"
      ],
      "execution_count": null,
      "outputs": [
        {
          "output_type": "execute_result",
          "data": {
            "text/html": [
              "<div>\n",
              "<style scoped>\n",
              "    .dataframe tbody tr th:only-of-type {\n",
              "        vertical-align: middle;\n",
              "    }\n",
              "\n",
              "    .dataframe tbody tr th {\n",
              "        vertical-align: top;\n",
              "    }\n",
              "\n",
              "    .dataframe thead th {\n",
              "        text-align: right;\n",
              "    }\n",
              "</style>\n",
              "<table border=\"1\" class=\"dataframe\">\n",
              "  <thead>\n",
              "    <tr style=\"text-align: right;\">\n",
              "      <th></th>\n",
              "      <th>words</th>\n",
              "      <th>result</th>\n",
              "    </tr>\n",
              "  </thead>\n",
              "  <tbody>\n",
              "    <tr>\n",
              "      <th>0</th>\n",
              "      <td>꿀잼</td>\n",
              "      <td>1</td>\n",
              "    </tr>\n",
              "    <tr>\n",
              "      <th>1</th>\n",
              "      <td>너무</td>\n",
              "      <td>0</td>\n",
              "    </tr>\n",
              "    <tr>\n",
              "      <th>2</th>\n",
              "      <td>극혐</td>\n",
              "      <td>1</td>\n",
              "    </tr>\n",
              "    <tr>\n",
              "      <th>3</th>\n",
              "      <td>학교</td>\n",
              "      <td>1</td>\n",
              "    </tr>\n",
              "    <tr>\n",
              "      <th>4</th>\n",
              "      <td>맴찢</td>\n",
              "      <td>1</td>\n",
              "    </tr>\n",
              "    <tr>\n",
              "      <th>5</th>\n",
              "      <td>슈퍼카</td>\n",
              "      <td>1</td>\n",
              "    </tr>\n",
              "    <tr>\n",
              "      <th>6</th>\n",
              "      <td>오늘</td>\n",
              "      <td>0</td>\n",
              "    </tr>\n",
              "    <tr>\n",
              "      <th>7</th>\n",
              "      <td>봤다</td>\n",
              "      <td>1</td>\n",
              "    </tr>\n",
              "    <tr>\n",
              "      <th>8</th>\n",
              "      <td>했어</td>\n",
              "      <td>0</td>\n",
              "    </tr>\n",
              "  </tbody>\n",
              "</table>\n",
              "</div>"
            ],
            "text/plain": [
              "  words  result\n",
              "0    꿀잼       1\n",
              "1    너무       0\n",
              "2    극혐       1\n",
              "3    학교       1\n",
              "4    맴찢       1\n",
              "5   슈퍼카       1\n",
              "6    오늘       0\n",
              "7    봤다       1\n",
              "8    했어       0"
            ]
          },
          "metadata": {},
          "execution_count": 43
        }
      ]
    }
  ]
}