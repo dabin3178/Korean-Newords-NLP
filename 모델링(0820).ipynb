{
  "nbformat": 4,
  "nbformat_minor": 0,
  "metadata": {
    "colab": {
      "provenance": [],
      "include_colab_link": true
    },
    "kernelspec": {
      "name": "python3",
      "display_name": "Python 3"
    },
    "language_info": {
      "name": "python"
    }
  },
  "cells": [
    {
      "cell_type": "markdown",
      "metadata": {
        "id": "view-in-github",
        "colab_type": "text"
      },
      "source": [
        "<a href=\"https://colab.research.google.com/github/dabin3178/Korean-Newords-NLP/blob/main/%EB%AA%A8%EB%8D%B8%EB%A7%81(0820).ipynb\" target=\"_parent\"><img src=\"https://colab.research.google.com/assets/colab-badge.svg\" alt=\"Open In Colab\"/></a>"
      ]
    },
    {
      "cell_type": "code",
      "metadata": {
        "id": "6MlLyDXCA1C3",
        "colab": {
          "base_uri": "https://localhost:8080/"
        },
        "outputId": "f5a4f71c-5529-4bee-dc24-5d0cecf6a430"
      },
      "source": [
        "pip install soynlp"
      ],
      "execution_count": null,
      "outputs": [
        {
          "output_type": "stream",
          "text": [
            "Collecting soynlp\n",
            "  Downloading soynlp-0.0.493-py3-none-any.whl (416 kB)\n",
            "\u001b[?25l\r\u001b[K     |▉                               | 10 kB 25.0 MB/s eta 0:00:01\r\u001b[K     |█▋                              | 20 kB 31.8 MB/s eta 0:00:01\r\u001b[K     |██▍                             | 30 kB 34.2 MB/s eta 0:00:01\r\u001b[K     |███▏                            | 40 kB 23.9 MB/s eta 0:00:01\r\u001b[K     |████                            | 51 kB 14.2 MB/s eta 0:00:01\r\u001b[K     |████▊                           | 61 kB 14.8 MB/s eta 0:00:01\r\u001b[K     |█████▌                          | 71 kB 15.0 MB/s eta 0:00:01\r\u001b[K     |██████▎                         | 81 kB 16.5 MB/s eta 0:00:01\r\u001b[K     |███████                         | 92 kB 16.7 MB/s eta 0:00:01\r\u001b[K     |███████▉                        | 102 kB 12.7 MB/s eta 0:00:01\r\u001b[K     |████████▋                       | 112 kB 12.7 MB/s eta 0:00:01\r\u001b[K     |█████████▍                      | 122 kB 12.7 MB/s eta 0:00:01\r\u001b[K     |██████████▏                     | 133 kB 12.7 MB/s eta 0:00:01\r\u001b[K     |███████████                     | 143 kB 12.7 MB/s eta 0:00:01\r\u001b[K     |███████████▉                    | 153 kB 12.7 MB/s eta 0:00:01\r\u001b[K     |████████████▋                   | 163 kB 12.7 MB/s eta 0:00:01\r\u001b[K     |█████████████▍                  | 174 kB 12.7 MB/s eta 0:00:01\r\u001b[K     |██████████████▏                 | 184 kB 12.7 MB/s eta 0:00:01\r\u001b[K     |███████████████                 | 194 kB 12.7 MB/s eta 0:00:01\r\u001b[K     |███████████████▊                | 204 kB 12.7 MB/s eta 0:00:01\r\u001b[K     |████████████████▌               | 215 kB 12.7 MB/s eta 0:00:01\r\u001b[K     |█████████████████▎              | 225 kB 12.7 MB/s eta 0:00:01\r\u001b[K     |██████████████████              | 235 kB 12.7 MB/s eta 0:00:01\r\u001b[K     |██████████████████▉             | 245 kB 12.7 MB/s eta 0:00:01\r\u001b[K     |███████████████████▋            | 256 kB 12.7 MB/s eta 0:00:01\r\u001b[K     |████████████████████▍           | 266 kB 12.7 MB/s eta 0:00:01\r\u001b[K     |█████████████████████▎          | 276 kB 12.7 MB/s eta 0:00:01\r\u001b[K     |██████████████████████          | 286 kB 12.7 MB/s eta 0:00:01\r\u001b[K     |██████████████████████▉         | 296 kB 12.7 MB/s eta 0:00:01\r\u001b[K     |███████████████████████▋        | 307 kB 12.7 MB/s eta 0:00:01\r\u001b[K     |████████████████████████▍       | 317 kB 12.7 MB/s eta 0:00:01\r\u001b[K     |█████████████████████████▏      | 327 kB 12.7 MB/s eta 0:00:01\r\u001b[K     |██████████████████████████      | 337 kB 12.7 MB/s eta 0:00:01\r\u001b[K     |██████████████████████████▊     | 348 kB 12.7 MB/s eta 0:00:01\r\u001b[K     |███████████████████████████▌    | 358 kB 12.7 MB/s eta 0:00:01\r\u001b[K     |████████████████████████████▎   | 368 kB 12.7 MB/s eta 0:00:01\r\u001b[K     |█████████████████████████████   | 378 kB 12.7 MB/s eta 0:00:01\r\u001b[K     |█████████████████████████████▉  | 389 kB 12.7 MB/s eta 0:00:01\r\u001b[K     |██████████████████████████████▋ | 399 kB 12.7 MB/s eta 0:00:01\r\u001b[K     |███████████████████████████████▌| 409 kB 12.7 MB/s eta 0:00:01\r\u001b[K     |████████████████████████████████| 416 kB 12.7 MB/s \n",
            "\u001b[?25hRequirement already satisfied: scikit-learn>=0.20.0 in /usr/local/lib/python3.7/dist-packages (from soynlp) (0.22.2.post1)\n",
            "Requirement already satisfied: numpy>=1.12.1 in /usr/local/lib/python3.7/dist-packages (from soynlp) (1.19.5)\n",
            "Requirement already satisfied: psutil>=5.0.1 in /usr/local/lib/python3.7/dist-packages (from soynlp) (5.4.8)\n",
            "Requirement already satisfied: scipy>=1.1.0 in /usr/local/lib/python3.7/dist-packages (from soynlp) (1.4.1)\n",
            "Requirement already satisfied: joblib>=0.11 in /usr/local/lib/python3.7/dist-packages (from scikit-learn>=0.20.0->soynlp) (1.0.1)\n",
            "Installing collected packages: soynlp\n",
            "Successfully installed soynlp-0.0.493\n"
          ],
          "name": "stdout"
        }
      ]
    },
    {
      "cell_type": "code",
      "metadata": {
        "id": "fbPhzFbjVMOw"
      },
      "source": [
        "import re\n",
        "\n",
        "def text_preprocess(x): # 공백도 제외\n",
        "    text=[]\n",
        "    a = re.sub('[^가-힣\\\\s]', '',x)\n",
        "    for j in a.split():\n",
        "        text.append(j)\n",
        "    return ' '.join(text)"
      ],
      "execution_count": null,
      "outputs": []
    },
    {
      "cell_type": "code",
      "metadata": {
        "colab": {
          "base_uri": "https://localhost:8080/"
        },
        "id": "ubAnYdXSRsze",
        "outputId": "3dda49e2-f69d-42d0-994b-e404f9aba722"
      },
      "source": [
        "n = int(input(\"몇 개의 문장을 입력하시겠습니까: \"))\n",
        "text = [\"\"] * n\n",
        "for i in range(n):\n",
        "    text[i] = input(\"추가할 문장을 입력하세요: \")\n",
        "    text[i] = (text[i] + '\\n') * 64"
      ],
      "execution_count": null,
      "outputs": [
        {
          "output_type": "stream",
          "text": [
            "몇 개의 문장을 입력하시겠습니까: 5\n",
            "추가할 문장을 입력하세요:  이거 개꿀잼이다\n",
            "추가할 문장을 입력하세요: 오늘 학교가다가 슈퍼카 봤다\n",
            "추가할 문장을 입력하세요: 오늘 폰 떨어뜨려서 맴찢이었어\n",
            "추가할 문장을 입력하세요: 갑자기 개가 달려와서 깜놀했어\n",
            "추가할 문장을 입력하세요: 가지 너무 극혐이야\n"
          ],
          "name": "stdout"
        }
      ]
    },
    {
      "cell_type": "code",
      "metadata": {
        "colab": {
          "base_uri": "https://localhost:8080/",
          "height": 422
        },
        "id": "Qsj1xxi37EtH",
        "outputId": "56bf9801-4c4b-4718-ec6e-8ab54f06b536"
      },
      "source": [
        "import pandas as pd\n",
        "eta_secret_labeled = pd.read_csv(\"/content/drive/MyDrive/Project_FINAL/raw_data/eta_비밀.csv\")\n",
        "eta_sisa_labeled = pd.read_csv(\"/content/drive/MyDrive/Project_FINAL/raw_data/df_에타_sisa.csv\")\n",
        "eta_global_labeled = pd.read_csv(\"/content/drive/MyDrive/Project_FINAL/raw_data/Globalfree.csv\")\n",
        "deoku_labeled = pd.read_csv(\"/content/drive/MyDrive/Project_FINAL/raw_data/deoku.csv\")\n",
        "ppomppu_labeled = pd.read_csv(\"/content/drive/MyDrive/Project_FINAL/raw_data/ppomppu1.csv\")\n",
        "ppomppu2_labeled = pd.read_csv(\"/content/drive/MyDrive/Project_FINAL/raw_data/ppomppu2.csv\")\n",
        "youtube_labeled = pd.read_csv(\"/content/drive/MyDrive/Project_FINAL/raw_data/유튜브15개.csv\")\n",
        "navernews_labeled = pd.read_csv(\"/content/drive/MyDrive/Project_FINAL/raw_data/navernews.csv\")\n",
        "nate_pann_labeled = pd.read_csv(\"/content/drive/MyDrive/Project_FINAL/raw_data/네이트판_통합.csv\")\n",
        "dc_inside_labeled = pd.read_csv(\"/content/drive/MyDrive/Project_FINAL/raw_data/df_DC_total.csv\")\n",
        "\n",
        "labeled_data_df = pd.concat([eta_secret_labeled, eta_sisa_labeled],ignore_index=True)\n",
        "labeled_data_df = pd.concat([labeled_data_df, eta_global_labeled],ignore_index=True)\n",
        "labeled_data_df = pd.concat([labeled_data_df, deoku_labeled],ignore_index=True)\n",
        "labeled_data_df = pd.concat([labeled_data_df, ppomppu_labeled],ignore_index=True)\n",
        "labeled_data_df = pd.concat([labeled_data_df, ppomppu2_labeled],ignore_index=True)\n",
        "labeled_data_df = pd.concat([labeled_data_df, youtube_labeled],ignore_index=True)\n",
        "labeled_data_df = pd.concat([labeled_data_df, navernews_labeled],ignore_index=True)\n",
        "labeled_data_df = pd.concat([labeled_data_df, nate_pann_labeled],ignore_index=True)\n",
        "labeled_data_df = pd.concat([labeled_data_df, dc_inside_labeled],ignore_index=True)\n",
        "\n",
        "for column in labeled_data_df.columns:\n",
        "    if column != 'comment':\n",
        "        labeled_data_df = labeled_data_df.drop(column, axis=1)\n",
        "\n",
        "labeled_data_df.to_csv(\"/content/drive/MyDrive/Project_FINAL/total_data.csv\", encoding='utf-8-sig', index=False)\n",
        "\n",
        "labeled_data_df"
      ],
      "execution_count": null,
      "outputs": [
        {
          "output_type": "execute_result",
          "data": {
            "text/html": [
              "<div>\n",
              "<style scoped>\n",
              "    .dataframe tbody tr th:only-of-type {\n",
              "        vertical-align: middle;\n",
              "    }\n",
              "\n",
              "    .dataframe tbody tr th {\n",
              "        vertical-align: top;\n",
              "    }\n",
              "\n",
              "    .dataframe thead th {\n",
              "        text-align: right;\n",
              "    }\n",
              "</style>\n",
              "<table border=\"1\" class=\"dataframe\">\n",
              "  <thead>\n",
              "    <tr style=\"text-align: right;\">\n",
              "      <th></th>\n",
              "      <th>comment</th>\n",
              "    </tr>\n",
              "  </thead>\n",
              "  <tbody>\n",
              "    <tr>\n",
              "      <th>0</th>\n",
              "      <td>1</td>\n",
              "    </tr>\n",
              "    <tr>\n",
              "      <th>1</th>\n",
              "      <td>1</td>\n",
              "    </tr>\n",
              "    <tr>\n",
              "      <th>2</th>\n",
              "      <td>4</td>\n",
              "    </tr>\n",
              "    <tr>\n",
              "      <th>3</th>\n",
              "      <td>4</td>\n",
              "    </tr>\n",
              "    <tr>\n",
              "      <th>4</th>\n",
              "      <td>0</td>\n",
              "    </tr>\n",
              "    <tr>\n",
              "      <th>...</th>\n",
              "      <td>...</td>\n",
              "    </tr>\n",
              "    <tr>\n",
              "      <th>1996139</th>\n",
              "      <td>야갤하는 여자는 도대체 어떤 인생을 사는 걸까</td>\n",
              "    </tr>\n",
              "    <tr>\n",
              "      <th>1996140</th>\n",
              "      <td>섹스</td>\n",
              "    </tr>\n",
              "    <tr>\n",
              "      <th>1996141</th>\n",
              "      <td>pp</td>\n",
              "    </tr>\n",
              "    <tr>\n",
              "      <th>1996142</th>\n",
              "      <td>흐읏흥</td>\n",
              "    </tr>\n",
              "    <tr>\n",
              "      <th>1996143</th>\n",
              "      <td>여친 그려봄 이쁘냐?</td>\n",
              "    </tr>\n",
              "  </tbody>\n",
              "</table>\n",
              "<p>1996144 rows × 1 columns</p>\n",
              "</div>"
            ],
            "text/plain": [
              "                           comment\n",
              "0                                1\n",
              "1                                1\n",
              "2                                4\n",
              "3                                4\n",
              "4                                0\n",
              "...                            ...\n",
              "1996139  야갤하는 여자는 도대체 어떤 인생을 사는 걸까\n",
              "1996140                         섹스\n",
              "1996141                         pp\n",
              "1996142                        흐읏흥\n",
              "1996143                여친 그려봄 이쁘냐?\n",
              "\n",
              "[1996144 rows x 1 columns]"
            ]
          },
          "metadata": {},
          "execution_count": 5
        }
      ]
    },
    {
      "cell_type": "code",
      "metadata": {
        "id": "r6CIZii8A4YW"
      },
      "source": [
        "from soynlp import DoublespaceLineCorpus\n",
        "from soynlp.word import WordExtractor\n",
        "import pandas as pd\n",
        "\n",
        "df = labeled_data_df # pd.read_csv(\"/content/drive/MyDrive/Project_FINAL/total_data.csv\", encoding=\"utf-8\", engine=\"python\") # raw data 불러오기\n",
        "\n",
        "train_corpus = \"\" # raw data를 쭉이을 빈 문자열\n",
        "\n",
        "df['comment'] = df['comment'].apply(lambda x: str(x))\n",
        "df['process'] = df['comment'].apply(lambda x: text_preprocess(x)) # 불필요한 문자 제거\n",
        "\n",
        "for i in range(len(df['process'])):\n",
        "    train_corpus += df['process'][i] + '\\n' # 문자열을 쭉 이음.\n",
        "\n",
        "for i in range(len(text)):\n",
        "    train_corpus += text[i]\n",
        "\n",
        "for i in range(2):\n",
        "    train_corpus += train_corpus + '\\n'"
      ],
      "execution_count": null,
      "outputs": []
    },
    {
      "cell_type": "code",
      "metadata": {
        "id": "zYGlxRAvw-OY"
      },
      "source": [
        "with open(\"/content/drive/MyDrive/Project_FINAL/train_corpus.txt\", 'w') as file: # txt 파일로 저장\n",
        "    file.write(train_corpus)"
      ],
      "execution_count": null,
      "outputs": []
    },
    {
      "cell_type": "code",
      "metadata": {
        "id": "uXkXmIgDCJEX",
        "colab": {
          "base_uri": "https://localhost:8080/"
        },
        "outputId": "e03725e8-3ce8-4492-c421-670227744344"
      },
      "source": [
        "train_corpus = DoublespaceLineCorpus(\"/content/drive/MyDrive/Project_FINAL/train_corpus.txt\") # 저장한 txt 파일로 변환\n",
        "len(train_corpus)"
      ],
      "execution_count": null,
      "outputs": [
        {
          "output_type": "execute_result",
          "data": {
            "text/plain": [
              "7985859"
            ]
          },
          "metadata": {},
          "execution_count": 8
        }
      ]
    },
    {
      "cell_type": "code",
      "metadata": {
        "colab": {
          "base_uri": "https://localhost:8080/"
        },
        "id": "1tB7J8MeCOOF",
        "outputId": "191cf4d8-05bd-4ff9-a659-8cbc17421438"
      },
      "source": [
        "# 코퍼스로 학습\n",
        "word_extractor = WordExtractor()\n",
        "word_extractor.train(train_corpus)\n",
        "word_score_table = word_extractor.extract()"
      ],
      "execution_count": null,
      "outputs": [
        {
          "output_type": "stream",
          "text": [
            "training was done. used memory 2.271 Gb\n",
            "all cohesion probabilities was computed. # words = 518792\n",
            "all branching entropies was computed # words = 1595923\n",
            "all accessor variety was computed # words = 1595923\n"
          ],
          "name": "stdout"
        }
      ]
    },
    {
      "cell_type": "code",
      "metadata": {
        "colab": {
          "base_uri": "https://localhost:8080/"
        },
        "id": "1R_hjI7QSTI4",
        "outputId": "ff5d2131-6b14-4487-df6d-3be4fbddb839"
      },
      "source": [
        "n = int(input(\"몇 개의 단어를 입력하시겠습니까: \"))\n",
        "text = [\"\"] * n\n",
        "\n",
        "for i in range(n):\n",
        "    text[i] = input(\"기존 문장에 있던 단어를 입력하세요: \")"
      ],
      "execution_count": null,
      "outputs": [
        {
          "output_type": "stream",
          "text": [
            "몇 개의 단어를 입력하시겠습니까: 13\n",
            "기존 문장에 있던 단어를 입력하세요: 꿀잼\n",
            "기존 문장에 있던 단어를 입력하세요: 가지\n",
            "기존 문장에 있던 단어를 입력하세요: 너무\n",
            "기존 문장에 있던 단어를 입력하세요: 극혐\n",
            "기존 문장에 있던 단어를 입력하세요: 학교\n",
            "기존 문장에 있던 단어를 입력하세요: 맴찢\n",
            "기존 문장에 있던 단어를 입력하세요: 슈퍼카\n",
            "기존 문장에 있던 단어를 입력하세요: 오늘\n",
            "기존 문장에 있던 단어를 입력하세요: 가다가\n",
            "기존 문장에 있던 단어를 입력하세요: 봤다\n",
            "기존 문장에 있던 단어를 입력하세요: 했어\n",
            "기존 문장에 있던 단어를 입력하세요: 이야\n",
            "기존 문장에 있던 단어를 입력하세요: 이다\n"
          ],
          "name": "stdout"
        }
      ]
    },
    {
      "cell_type": "code",
      "metadata": {
        "id": "EHWimdl7TQNG",
        "colab": {
          "base_uri": "https://localhost:8080/",
          "height": 331
        },
        "outputId": "c2e47b95-aca7-4dbd-ac0a-d385076bf012"
      },
      "source": [
        "tmp = text.copy()\n",
        "text = []\n",
        "for i in range(len(tmp)):\n",
        "    try:\n",
        "        word_score_table[tmp[i]].cohesion_forward\n",
        "        text.append(tmp[i])\n",
        "    except KeyError:\n",
        "        pass\n",
        "\n",
        "validation = {\n",
        "    \"words\": text\n",
        "}\n",
        "\n",
        "validation_df = pd.DataFrame(validation)\n",
        "validation_df['freq'] = validation_df['words'].apply(lambda x: word_score_table[x].leftside_frequency + word_score_table[x].rightside_frequency)\n",
        "#validation_df['freq_ratio'] = validation_df['freq'].apply(lambda x: (x / sum(list(validation_df['freq']))) * 100)\n",
        "validation_df['length'] = validation_df['words'].apply(lambda x: len(x))\n",
        "validation_df['cohesion_forward'] = validation_df['words'].apply(lambda x: word_score_table[x].cohesion_forward)\n",
        "validation_df['left_branching_entropy'] = validation_df['words'].apply(lambda x: word_score_table[x].left_branching_entropy)\n",
        "validation_df['right_branching_entropy'] = validation_df['words'].apply(lambda x: word_score_table[x].right_branching_entropy)\n",
        "validation_df['left_accessor_variety'] = validation_df['words'].apply(lambda x: word_score_table[x].left_accessor_variety)\n",
        "validation_df['starts_ratio'] = validation_df['words'].apply(lambda x: word_score_table[x].leftside_frequency)\n",
        "\n",
        "for i in range(len(validation_df['starts_ratio'])):\n",
        "    validation_df['starts_ratio'][i] = (validation_df['starts_ratio'][i] / validation_df['freq'][i]) * 100\n",
        "\n",
        "validation_df = validation_df.drop('freq', axis=1)\n",
        "validation_df"
      ],
      "execution_count": null,
      "outputs": [
        {
          "output_type": "execute_result",
          "data": {
            "text/html": [
              "<div>\n",
              "<style scoped>\n",
              "    .dataframe tbody tr th:only-of-type {\n",
              "        vertical-align: middle;\n",
              "    }\n",
              "\n",
              "    .dataframe tbody tr th {\n",
              "        vertical-align: top;\n",
              "    }\n",
              "\n",
              "    .dataframe thead th {\n",
              "        text-align: right;\n",
              "    }\n",
              "</style>\n",
              "<table border=\"1\" class=\"dataframe\">\n",
              "  <thead>\n",
              "    <tr style=\"text-align: right;\">\n",
              "      <th></th>\n",
              "      <th>words</th>\n",
              "      <th>length</th>\n",
              "      <th>cohesion_forward</th>\n",
              "      <th>left_branching_entropy</th>\n",
              "      <th>right_branching_entropy</th>\n",
              "      <th>left_accessor_variety</th>\n",
              "      <th>starts_ratio</th>\n",
              "    </tr>\n",
              "  </thead>\n",
              "  <tbody>\n",
              "    <tr>\n",
              "      <th>0</th>\n",
              "      <td>꿀잼</td>\n",
              "      <td>2</td>\n",
              "      <td>0.210091</td>\n",
              "      <td>4.178145</td>\n",
              "      <td>3.603664</td>\n",
              "      <td>96</td>\n",
              "      <td>80</td>\n",
              "    </tr>\n",
              "    <tr>\n",
              "      <th>1</th>\n",
              "      <td>너무</td>\n",
              "      <td>2</td>\n",
              "      <td>0.813138</td>\n",
              "      <td>4.642387</td>\n",
              "      <td>4.841249</td>\n",
              "      <td>642</td>\n",
              "      <td>96</td>\n",
              "    </tr>\n",
              "    <tr>\n",
              "      <th>2</th>\n",
              "      <td>극혐</td>\n",
              "      <td>2</td>\n",
              "      <td>0.123092</td>\n",
              "      <td>3.564772</td>\n",
              "      <td>2.589933</td>\n",
              "      <td>83</td>\n",
              "      <td>93</td>\n",
              "    </tr>\n",
              "    <tr>\n",
              "      <th>3</th>\n",
              "      <td>학교</td>\n",
              "      <td>2</td>\n",
              "      <td>0.212234</td>\n",
              "      <td>4.187846</td>\n",
              "      <td>4.725353</td>\n",
              "      <td>286</td>\n",
              "      <td>53</td>\n",
              "    </tr>\n",
              "    <tr>\n",
              "      <th>4</th>\n",
              "      <td>맴찢</td>\n",
              "      <td>2</td>\n",
              "      <td>0.519337</td>\n",
              "      <td>1.477702</td>\n",
              "      <td>1.048385</td>\n",
              "      <td>24</td>\n",
              "      <td>100</td>\n",
              "    </tr>\n",
              "    <tr>\n",
              "      <th>5</th>\n",
              "      <td>슈퍼카</td>\n",
              "      <td>3</td>\n",
              "      <td>0.172665</td>\n",
              "      <td>0.991286</td>\n",
              "      <td>0.923138</td>\n",
              "      <td>15</td>\n",
              "      <td>100</td>\n",
              "    </tr>\n",
              "    <tr>\n",
              "      <th>6</th>\n",
              "      <td>오늘</td>\n",
              "      <td>2</td>\n",
              "      <td>0.442089</td>\n",
              "      <td>5.255248</td>\n",
              "      <td>4.813536</td>\n",
              "      <td>767</td>\n",
              "      <td>98</td>\n",
              "    </tr>\n",
              "    <tr>\n",
              "      <th>7</th>\n",
              "      <td>봤다</td>\n",
              "      <td>2</td>\n",
              "      <td>0.152802</td>\n",
              "      <td>3.876942</td>\n",
              "      <td>4.150261</td>\n",
              "      <td>99</td>\n",
              "      <td>62</td>\n",
              "    </tr>\n",
              "    <tr>\n",
              "      <th>8</th>\n",
              "      <td>했어</td>\n",
              "      <td>2</td>\n",
              "      <td>0.093546</td>\n",
              "      <td>4.607940</td>\n",
              "      <td>4.792120</td>\n",
              "      <td>201</td>\n",
              "      <td>25</td>\n",
              "    </tr>\n",
              "  </tbody>\n",
              "</table>\n",
              "</div>"
            ],
            "text/plain": [
              "  words  length  ...  left_accessor_variety  starts_ratio\n",
              "0    꿀잼       2  ...                     96            80\n",
              "1    너무       2  ...                    642            96\n",
              "2    극혐       2  ...                     83            93\n",
              "3    학교       2  ...                    286            53\n",
              "4    맴찢       2  ...                     24           100\n",
              "5   슈퍼카       3  ...                     15           100\n",
              "6    오늘       2  ...                    767            98\n",
              "7    봤다       2  ...                     99            62\n",
              "8    했어       2  ...                    201            25\n",
              "\n",
              "[9 rows x 7 columns]"
            ]
          },
          "metadata": {},
          "execution_count": 59
        }
      ]
    },
    {
      "cell_type": "code",
      "metadata": {
        "id": "lTiU825egtu8",
        "colab": {
          "base_uri": "https://localhost:8080/"
        },
        "outputId": "e1e815d5-5776-4cd7-dd90-dc89faca6991"
      },
      "source": [
        "pip install XGBoost"
      ],
      "execution_count": null,
      "outputs": [
        {
          "output_type": "stream",
          "text": [
            "Requirement already satisfied: XGBoost in /usr/local/lib/python3.7/dist-packages (0.90)\n",
            "Requirement already satisfied: scipy in /usr/local/lib/python3.7/dist-packages (from XGBoost) (1.4.1)\n",
            "Requirement already satisfied: numpy in /usr/local/lib/python3.7/dist-packages (from XGBoost) (1.19.5)\n"
          ],
          "name": "stdout"
        }
      ]
    },
    {
      "cell_type": "code",
      "metadata": {
        "id": "tjW-f9iDDNB1",
        "colab": {
          "base_uri": "https://localhost:8080/",
          "height": 422
        },
        "outputId": "3a822274-1bf5-442a-94c3-68629fa03d06"
      },
      "source": [
        "import xgboost as xgb ## XGBoost 불러오기\n",
        "from xgboost import plot_importance ## Feature Importance를 불러오기 위함\n",
        "import pandas as pd\n",
        "import numpy as np\n",
        "from sklearn.model_selection import train_test_split\n",
        "from sklearn.metrics import confusion_matrix, accuracy_score, precision_score, recall_score\n",
        "from sklearn.metrics import confusion_matrix, f1_score, roc_auc_score\n",
        "import warnings\n",
        "\n",
        "warnings.filterwarnings('ignore')\n",
        "\n",
        "dataset = pd.read_csv(\"/content/drive/MyDrive/Project_FINAL/labeling_oversampling.csv\")\n",
        "\n",
        "y_label = dataset['label'].apply(lambda x: int(x))\n",
        "\n",
        "X_features = dataset.drop(columns=['freq', 'freq_ratio', 'label'], axis=1)\n",
        "\n",
        "newly_coined_words_df = pd.DataFrame(X_features.copy())\n",
        "newly_coined_words_df['label'] = y_label\n",
        "newly_coined_words_df"
      ],
      "execution_count": null,
      "outputs": [
        {
          "output_type": "execute_result",
          "data": {
            "text/html": [
              "<div>\n",
              "<style scoped>\n",
              "    .dataframe tbody tr th:only-of-type {\n",
              "        vertical-align: middle;\n",
              "    }\n",
              "\n",
              "    .dataframe tbody tr th {\n",
              "        vertical-align: top;\n",
              "    }\n",
              "\n",
              "    .dataframe thead th {\n",
              "        text-align: right;\n",
              "    }\n",
              "</style>\n",
              "<table border=\"1\" class=\"dataframe\">\n",
              "  <thead>\n",
              "    <tr style=\"text-align: right;\">\n",
              "      <th></th>\n",
              "      <th>length</th>\n",
              "      <th>cohesion_forward</th>\n",
              "      <th>left_branching_entropy</th>\n",
              "      <th>right_branching_entropy</th>\n",
              "      <th>left_accessor_variety</th>\n",
              "      <th>starts_ratio</th>\n",
              "      <th>label</th>\n",
              "    </tr>\n",
              "  </thead>\n",
              "  <tbody>\n",
              "    <tr>\n",
              "      <th>0</th>\n",
              "      <td>3</td>\n",
              "      <td>0.525855</td>\n",
              "      <td>4.851419</td>\n",
              "      <td>3.189698</td>\n",
              "      <td>452</td>\n",
              "      <td>99</td>\n",
              "      <td>1</td>\n",
              "    </tr>\n",
              "    <tr>\n",
              "      <th>1</th>\n",
              "      <td>3</td>\n",
              "      <td>0.288823</td>\n",
              "      <td>4.274746</td>\n",
              "      <td>5.362681</td>\n",
              "      <td>451</td>\n",
              "      <td>90</td>\n",
              "      <td>1</td>\n",
              "    </tr>\n",
              "    <tr>\n",
              "      <th>2</th>\n",
              "      <td>2</td>\n",
              "      <td>0.332132</td>\n",
              "      <td>4.428012</td>\n",
              "      <td>5.019335</td>\n",
              "      <td>334</td>\n",
              "      <td>99</td>\n",
              "      <td>1</td>\n",
              "    </tr>\n",
              "    <tr>\n",
              "      <th>3</th>\n",
              "      <td>2</td>\n",
              "      <td>0.470189</td>\n",
              "      <td>1.731447</td>\n",
              "      <td>4.822910</td>\n",
              "      <td>93</td>\n",
              "      <td>97</td>\n",
              "      <td>1</td>\n",
              "    </tr>\n",
              "    <tr>\n",
              "      <th>4</th>\n",
              "      <td>5</td>\n",
              "      <td>0.604078</td>\n",
              "      <td>4.936218</td>\n",
              "      <td>4.494532</td>\n",
              "      <td>364</td>\n",
              "      <td>97</td>\n",
              "      <td>1</td>\n",
              "    </tr>\n",
              "    <tr>\n",
              "      <th>...</th>\n",
              "      <td>...</td>\n",
              "      <td>...</td>\n",
              "      <td>...</td>\n",
              "      <td>...</td>\n",
              "      <td>...</td>\n",
              "      <td>...</td>\n",
              "      <td>...</td>\n",
              "    </tr>\n",
              "    <tr>\n",
              "      <th>3713</th>\n",
              "      <td>4</td>\n",
              "      <td>0.079161</td>\n",
              "      <td>1.927392</td>\n",
              "      <td>2.252728</td>\n",
              "      <td>9</td>\n",
              "      <td>100</td>\n",
              "      <td>0</td>\n",
              "    </tr>\n",
              "    <tr>\n",
              "      <th>3714</th>\n",
              "      <td>3</td>\n",
              "      <td>0.065477</td>\n",
              "      <td>2.512659</td>\n",
              "      <td>2.084430</td>\n",
              "      <td>13</td>\n",
              "      <td>100</td>\n",
              "      <td>0</td>\n",
              "    </tr>\n",
              "    <tr>\n",
              "      <th>3715</th>\n",
              "      <td>3</td>\n",
              "      <td>0.082026</td>\n",
              "      <td>2.014036</td>\n",
              "      <td>1.799959</td>\n",
              "      <td>10</td>\n",
              "      <td>100</td>\n",
              "      <td>0</td>\n",
              "    </tr>\n",
              "    <tr>\n",
              "      <th>3716</th>\n",
              "      <td>4</td>\n",
              "      <td>0.096823</td>\n",
              "      <td>0.000000</td>\n",
              "      <td>0.000000</td>\n",
              "      <td>0</td>\n",
              "      <td>100</td>\n",
              "      <td>0</td>\n",
              "    </tr>\n",
              "    <tr>\n",
              "      <th>3717</th>\n",
              "      <td>6</td>\n",
              "      <td>0.245194</td>\n",
              "      <td>0.000000</td>\n",
              "      <td>2.393312</td>\n",
              "      <td>0</td>\n",
              "      <td>100</td>\n",
              "      <td>0</td>\n",
              "    </tr>\n",
              "  </tbody>\n",
              "</table>\n",
              "<p>3718 rows × 7 columns</p>\n",
              "</div>"
            ],
            "text/plain": [
              "      length  cohesion_forward  ...  starts_ratio  label\n",
              "0          3          0.525855  ...            99      1\n",
              "1          3          0.288823  ...            90      1\n",
              "2          2          0.332132  ...            99      1\n",
              "3          2          0.470189  ...            97      1\n",
              "4          5          0.604078  ...            97      1\n",
              "...      ...               ...  ...           ...    ...\n",
              "3713       4          0.079161  ...           100      0\n",
              "3714       3          0.065477  ...           100      0\n",
              "3715       3          0.082026  ...           100      0\n",
              "3716       4          0.096823  ...           100      0\n",
              "3717       6          0.245194  ...           100      0\n",
              "\n",
              "[3718 rows x 7 columns]"
            ]
          },
          "metadata": {},
          "execution_count": 60
        }
      ]
    },
    {
      "cell_type": "code",
      "metadata": {
        "colab": {
          "base_uri": "https://localhost:8080/"
        },
        "id": "8bs47FoOlC6I",
        "outputId": "94283beb-6ad7-4fe1-a2dc-41495f16ca8f"
      },
      "source": [
        "newly_coined_words_df['label'].value_counts()"
      ],
      "execution_count": null,
      "outputs": [
        {
          "output_type": "execute_result",
          "data": {
            "text/plain": [
              "1    1859\n",
              "0    1859\n",
              "Name: label, dtype: int64"
            ]
          },
          "metadata": {},
          "execution_count": 61
        }
      ]
    },
    {
      "cell_type": "code",
      "metadata": {
        "colab": {
          "base_uri": "https://localhost:8080/"
        },
        "id": "L0tsa0ZLmRup",
        "outputId": "000bfe37-5376-4d4f-c4f7-e1f2fdb5194f"
      },
      "source": [
        "X_train, X_test, y_train, y_test = train_test_split(X_features, y_label, test_size=0.2, random_state=156)\n",
        "print(X_train.shape, X_test.shape)"
      ],
      "execution_count": null,
      "outputs": [
        {
          "output_type": "stream",
          "text": [
            "(2974, 6) (744, 6)\n"
          ],
          "name": "stdout"
        }
      ]
    },
    {
      "cell_type": "code",
      "metadata": {
        "id": "kMJlRBbInY4R"
      },
      "source": [
        "dtrain = xgb.DMatrix(data=X_train, label=y_train)\n",
        "dtest = xgb.DMatrix(data=X_test, label=y_test)"
      ],
      "execution_count": null,
      "outputs": []
    },
    {
      "cell_type": "code",
      "metadata": {
        "id": "A053EjzZngg4"
      },
      "source": [
        "params = {'max_depth' : 3,\n",
        "         'eta' : 0.025, \n",
        "         'scale_pos_weight': 1,\n",
        "         'objective' : 'binary:logistic',\n",
        "         'eval_metric' : 'error',\n",
        "         'early_stoppings' : 100 }\n",
        "\n",
        "num_rounds = 1600"
      ],
      "execution_count": null,
      "outputs": []
    },
    {
      "cell_type": "code",
      "metadata": {
        "id": "86zap9ZpsPoo"
      },
      "source": [
        "# train 데이터 세트는 'train', evaluation(test) 데이터 세트는 'eval' 로 명기\n",
        "wlist = [(dtrain, 'train'), (dtest,'eval')]\n",
        "# 하이퍼 파라미터와 early stopping 파라미터를 train() 함수의 파라미터로 전달\n",
        "xgb_model = xgb.train(params = params, dtrain=dtrain, num_boost_round=num_rounds, evals=wlist)"
      ],
      "execution_count": null,
      "outputs": []
    },
    {
      "cell_type": "code",
      "metadata": {
        "id": "RzV_3kh8sR_J"
      },
      "source": [
        "pred_probs = xgb_model.predict(dtest)\n",
        "print('predict() 수행 결과값을 10개만 표시, 예측 확률 값으로 표시됨')\n",
        "print(np.round(pred_probs[:10], 3))\n",
        "\n",
        "preds = [ 1 if x > 0.5 else 0 for x in pred_probs]\n",
        "print('예측값 10개만 표시: ', preds[:10])"
      ],
      "execution_count": null,
      "outputs": []
    },
    {
      "cell_type": "code",
      "metadata": {
        "id": "o0BrJlouXzNj"
      },
      "source": [
        "\"\"\"\n",
        "test_words_list = []\n",
        "for index in X_test.index:\n",
        "    j = 0\n",
        "    for column in X_test.columns:\n",
        "        if dataset[column][index] != X_test[column][index]:\n",
        "            break\n",
        "        j += 1\n",
        "    if j == len(X_test.columns):\n",
        "        test_words_list.append(dataset['partial_words'][index])\n",
        "\"\"\"\n",
        "print()"
      ],
      "execution_count": null,
      "outputs": []
    },
    {
      "cell_type": "code",
      "metadata": {
        "id": "9-BWN0qAaiIF"
      },
      "source": [
        "\"\"\"\n",
        "test_data = {\n",
        "    'words': test_words_list,\n",
        "    'label': preds\n",
        "}\n",
        "\n",
        "test_data_df = pd.DataFrame(test_data)\n",
        "\n",
        "test_data_df\n",
        "\"\"\"\n",
        "print()"
      ],
      "execution_count": null,
      "outputs": []
    },
    {
      "cell_type": "code",
      "metadata": {
        "id": "7LfWvso6UHzE"
      },
      "source": [
        "dtext = xgb.DMatrix(data=validation_df.drop(columns='words', axis=1))\n",
        "validation_preds_probs = xgb_model.predict(dtext)\n",
        "validation_preds = [ 1 if x > 0.5 else 0 for x in validation_preds_probs]\n",
        "result = {\n",
        "    \"words\": text,\n",
        "    \"result\": validation_preds\n",
        "}\n",
        "\n",
        "result_df = pd.DataFrame(result)\n",
        "\n",
        "result_df"
      ],
      "execution_count": null,
      "outputs": []
    },
    {
      "cell_type": "code",
      "metadata": {
        "id": "RDkja9J2xePs"
      },
      "source": [
        "validation_df"
      ],
      "execution_count": null,
      "outputs": []
    },
    {
      "cell_type": "code",
      "metadata": {
        "id": "nxPTkaSysbks"
      },
      "source": [
        "def get_confusion(y_test, y_pred):\n",
        "    confusion = confusion_matrix(y_test, y_pred)\n",
        "    accuracy = accuracy_score(y_test, y_pred)\n",
        "    precision = precision_score(y_test, y_pred)\n",
        "    recall = recall_score(y_test, y_pred)\n",
        "    F1 = f1_score(y_test, y_pred)\n",
        "    AUC = roc_auc_score(y_test, y_pred)\n",
        "    print('오차행렬:\\n', confusion)\n",
        "    print('\\n정확도: {:.4f}'.format(accuracy))\n",
        "    print('정밀도: {:.4f}'.format(precision))\n",
        "    print('재현율: {:.4f}'.format(recall))\n",
        "    print('F1: {:.4f}'.format(F1))\n",
        "    print('AUC: {:.4f}'.format(AUC))"
      ],
      "execution_count": null,
      "outputs": []
    },
    {
      "cell_type": "code",
      "metadata": {
        "id": "MNpnGY-EtNgZ"
      },
      "source": [
        "get_confusion(y_test, preds)"
      ],
      "execution_count": null,
      "outputs": []
    },
    {
      "cell_type": "code",
      "metadata": {
        "id": "8Q6azIT7tOto"
      },
      "source": [
        "from xgboost import plot_importance\n",
        "import matplotlib.pyplot as plt\n",
        "%matplotlib inline\n",
        "\n",
        "fig, ax = plt.subplots(figsize=(10, 12))\n",
        "plot_importance(xgb_model, ax=ax)"
      ],
      "execution_count": null,
      "outputs": []
    },
    {
      "cell_type": "code",
      "metadata": {
        "id": "_OuFZ6TfynKZ"
      },
      "source": [
        "from xgboost import XGBClassifier\n",
        "xgb_wrapper = XGBClassifier(n_estimators = 1600, learning_rate = 0.025 , max_depth = 5)\n",
        "evals = [(X_test, y_test)]\n",
        "xgb_wrapper.fit(X_train, y_train, early_stopping_rounds = 100, \n",
        "                eval_metric=\"error\", eval_set = evals, verbose=True)\n",
        "ws100_preds = xgb_wrapper.predict(X_test)"
      ],
      "execution_count": null,
      "outputs": []
    },
    {
      "cell_type": "code",
      "metadata": {
        "id": "vCiTLTuvyplZ"
      },
      "source": [
        "get_confusion(y_test, ws100_preds)"
      ],
      "execution_count": null,
      "outputs": []
    },
    {
      "cell_type": "code",
      "metadata": {
        "id": "mQAmXmOS8NAG"
      },
      "source": [
        "pred_probs = ws100_preds\n",
        "print('predict() 수행 결과값을 10개만 표시, 예측 확률 값으로 표시됨')\n",
        "print(np.round(pred_probs[:10], 3))\n",
        "\n",
        "# 예측 확률이 0.5보다 크면 1, 그렇지 않으면 0으로 예측값 결정해 리스트 객체인 preds에 저장\n",
        "preds = [ 1 if x > 0.5 else 0 for x in pred_probs]\n",
        "print('예측값 10개만 표시: ', preds[:10])"
      ],
      "execution_count": null,
      "outputs": []
    },
    {
      "cell_type": "code",
      "metadata": {
        "id": "fmBoElbjvNVP"
      },
      "source": [
        "validation_preds_probs = xgb_wrapper.predict(validation_df.drop('words', axis=1))\n",
        "validation_preds = [ 1 if x > 0.5 else 0 for x in validation_preds_probs]\n",
        "result = {\n",
        "    \"words\": text,\n",
        "    \"result\": validation_preds\n",
        "}\n",
        "\n",
        "result_df = pd.DataFrame(result)\n",
        "\n",
        "result_df"
      ],
      "execution_count": null,
      "outputs": []
    },
    {
      "cell_type": "code",
      "metadata": {
        "id": "eQf7sU-LyxXx"
      },
      "source": [
        "from xgboost import plot_importance\n",
        "import matplotlib.pyplot as plt\n",
        "%matplotlib inline\n",
        "\n",
        "fig, ax = plt.subplots(figsize=(10, 12))\n",
        "\n",
        "plot_importance(xgb_wrapper, ax=ax)"
      ],
      "execution_count": null,
      "outputs": []
    },
    {
      "cell_type": "code",
      "metadata": {
        "id": "B_slTnrb0NtD"
      },
      "source": [
        "from xgboost import plot_tree\n",
        "\n",
        "plot_tree(xgb_wrapper, num_trees=0)\n",
        "fig = plt.gcf()\n",
        "fig.set_size_inches(150, 100)\n",
        "plt.show()"
      ],
      "execution_count": null,
      "outputs": []
    },
    {
      "cell_type": "code",
      "metadata": {
        "id": "lxp-dRrh6mrk"
      },
      "source": [],
      "execution_count": null,
      "outputs": []
    }
  ]
}