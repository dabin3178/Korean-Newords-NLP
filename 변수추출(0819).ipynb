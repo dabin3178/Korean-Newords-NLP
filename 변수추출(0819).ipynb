{
  "nbformat": 4,
  "nbformat_minor": 0,
  "metadata": {
    "colab": {
      "provenance": [],
      "include_colab_link": true
    },
    "kernelspec": {
      "name": "python3",
      "display_name": "Python 3"
    },
    "language_info": {
      "name": "python"
    },
    "accelerator": "GPU"
  },
  "cells": [
    {
      "cell_type": "markdown",
      "metadata": {
        "id": "view-in-github",
        "colab_type": "text"
      },
      "source": [
        "<a href=\"https://colab.research.google.com/github/dabin3178/Korean-Newords-NLP/blob/main/%EB%B3%80%EC%88%98%EC%B6%94%EC%B6%9C(0819).ipynb\" target=\"_parent\"><img src=\"https://colab.research.google.com/assets/colab-badge.svg\" alt=\"Open In Colab\"/></a>"
      ]
    },
    {
      "cell_type": "code",
      "metadata": {
        "id": "6MlLyDXCA1C3",
        "colab": {
          "base_uri": "https://localhost:8080/"
        },
        "outputId": "d5f8f324-a2a1-4388-925a-f7e34f3c6aaf"
      },
      "source": [
        "pip install soynlp"
      ],
      "execution_count": null,
      "outputs": [
        {
          "output_type": "stream",
          "text": [
            "Collecting soynlp\n",
            "  Downloading soynlp-0.0.493-py3-none-any.whl (416 kB)\n",
            "\u001b[?25l\r\u001b[K     |▉                               | 10 kB 28.4 MB/s eta 0:00:01\r\u001b[K     |█▋                              | 20 kB 29.8 MB/s eta 0:00:01\r\u001b[K     |██▍                             | 30 kB 19.6 MB/s eta 0:00:01\r\u001b[K     |███▏                            | 40 kB 16.1 MB/s eta 0:00:01\r\u001b[K     |████                            | 51 kB 13.4 MB/s eta 0:00:01\r\u001b[K     |████▊                           | 61 kB 12.1 MB/s eta 0:00:01\r\u001b[K     |█████▌                          | 71 kB 11.8 MB/s eta 0:00:01\r\u001b[K     |██████▎                         | 81 kB 13.0 MB/s eta 0:00:01\r\u001b[K     |███████                         | 92 kB 13.3 MB/s eta 0:00:01\r\u001b[K     |███████▉                        | 102 kB 12.5 MB/s eta 0:00:01\r\u001b[K     |████████▋                       | 112 kB 12.5 MB/s eta 0:00:01\r\u001b[K     |█████████▍                      | 122 kB 12.5 MB/s eta 0:00:01\r\u001b[K     |██████████▏                     | 133 kB 12.5 MB/s eta 0:00:01\r\u001b[K     |███████████                     | 143 kB 12.5 MB/s eta 0:00:01\r\u001b[K     |███████████▉                    | 153 kB 12.5 MB/s eta 0:00:01\r\u001b[K     |████████████▋                   | 163 kB 12.5 MB/s eta 0:00:01\r\u001b[K     |█████████████▍                  | 174 kB 12.5 MB/s eta 0:00:01\r\u001b[K     |██████████████▏                 | 184 kB 12.5 MB/s eta 0:00:01\r\u001b[K     |███████████████                 | 194 kB 12.5 MB/s eta 0:00:01\r\u001b[K     |███████████████▊                | 204 kB 12.5 MB/s eta 0:00:01\r\u001b[K     |████████████████▌               | 215 kB 12.5 MB/s eta 0:00:01\r\u001b[K     |█████████████████▎              | 225 kB 12.5 MB/s eta 0:00:01\r\u001b[K     |██████████████████              | 235 kB 12.5 MB/s eta 0:00:01\r\u001b[K     |██████████████████▉             | 245 kB 12.5 MB/s eta 0:00:01\r\u001b[K     |███████████████████▋            | 256 kB 12.5 MB/s eta 0:00:01\r\u001b[K     |████████████████████▍           | 266 kB 12.5 MB/s eta 0:00:01\r\u001b[K     |█████████████████████▎          | 276 kB 12.5 MB/s eta 0:00:01\r\u001b[K     |██████████████████████          | 286 kB 12.5 MB/s eta 0:00:01\r\u001b[K     |██████████████████████▉         | 296 kB 12.5 MB/s eta 0:00:01\r\u001b[K     |███████████████████████▋        | 307 kB 12.5 MB/s eta 0:00:01\r\u001b[K     |████████████████████████▍       | 317 kB 12.5 MB/s eta 0:00:01\r\u001b[K     |█████████████████████████▏      | 327 kB 12.5 MB/s eta 0:00:01\r\u001b[K     |██████████████████████████      | 337 kB 12.5 MB/s eta 0:00:01\r\u001b[K     |██████████████████████████▊     | 348 kB 12.5 MB/s eta 0:00:01\r\u001b[K     |███████████████████████████▌    | 358 kB 12.5 MB/s eta 0:00:01\r\u001b[K     |████████████████████████████▎   | 368 kB 12.5 MB/s eta 0:00:01\r\u001b[K     |█████████████████████████████   | 378 kB 12.5 MB/s eta 0:00:01\r\u001b[K     |█████████████████████████████▉  | 389 kB 12.5 MB/s eta 0:00:01\r\u001b[K     |██████████████████████████████▋ | 399 kB 12.5 MB/s eta 0:00:01\r\u001b[K     |███████████████████████████████▌| 409 kB 12.5 MB/s eta 0:00:01\r\u001b[K     |████████████████████████████████| 416 kB 12.5 MB/s \n",
            "\u001b[?25hRequirement already satisfied: scipy>=1.1.0 in /usr/local/lib/python3.7/dist-packages (from soynlp) (1.4.1)\n",
            "Requirement already satisfied: scikit-learn>=0.20.0 in /usr/local/lib/python3.7/dist-packages (from soynlp) (0.22.2.post1)\n",
            "Requirement already satisfied: psutil>=5.0.1 in /usr/local/lib/python3.7/dist-packages (from soynlp) (5.4.8)\n",
            "Requirement already satisfied: numpy>=1.12.1 in /usr/local/lib/python3.7/dist-packages (from soynlp) (1.19.5)\n",
            "Requirement already satisfied: joblib>=0.11 in /usr/local/lib/python3.7/dist-packages (from scikit-learn>=0.20.0->soynlp) (1.0.1)\n",
            "Installing collected packages: soynlp\n",
            "Successfully installed soynlp-0.0.493\n"
          ],
          "name": "stdout"
        }
      ]
    },
    {
      "cell_type": "code",
      "metadata": {
        "id": "fbPhzFbjVMOw"
      },
      "source": [
        "import re\n",
        "\n",
        "def text_preprocess(x): # 공백도 제외\n",
        "    text=[]\n",
        "    a = re.sub('[^가-힣\\\\s]', '',x)\n",
        "    for j in a.split():\n",
        "        text.append(j)\n",
        "    return ' '.join(text)"
      ],
      "execution_count": null,
      "outputs": []
    },
    {
      "cell_type": "code",
      "metadata": {
        "colab": {
          "base_uri": "https://localhost:8080/",
          "height": 422
        },
        "id": "Qsj1xxi37EtH",
        "outputId": "b5b0373a-43de-4867-df88-70b482fbe275"
      },
      "source": [
        "import pandas as pd\n",
        "eta_secret_labeled = pd.read_csv(\"/content/drive/MyDrive/Project_FINAL/raw_data/eta_비밀.csv\")\n",
        "eta_sisa_labeled = pd.read_csv(\"/content/drive/MyDrive/Project_FINAL/raw_data/df_에타_sisa.csv\")\n",
        "eta_global_labeled = pd.read_csv(\"/content/drive/MyDrive/Project_FINAL/raw_data/Globalfree.csv\")\n",
        "deoku_labeled = pd.read_csv(\"/content/drive/MyDrive/Project_FINAL/raw_data/deoku.csv\")\n",
        "ppomppu_labeled = pd.read_csv(\"/content/drive/MyDrive/Project_FINAL/raw_data/ppomppu1.csv\")\n",
        "ppomppu2_labeled = pd.read_csv(\"/content/drive/MyDrive/Project_FINAL/raw_data/ppomppu2.csv\")\n",
        "youtube_labeled = pd.read_csv(\"/content/drive/MyDrive/Project_FINAL/raw_data/유튜브15개.csv\")\n",
        "navernews_labeled = pd.read_csv(\"/content/drive/MyDrive/Project_FINAL/raw_data/navernews.csv\")\n",
        "nate_pann_labeled = pd.read_csv(\"/content/drive/MyDrive/Project_FINAL/raw_data/네이트판_통합.csv\")\n",
        "dc_inside_labeled = pd.read_csv(\"/content/drive/MyDrive/Project_FINAL/raw_data/df_DC_total.csv\")\n",
        "\n",
        "labeled_data_df = pd.concat([eta_secret_labeled, eta_sisa_labeled],ignore_index=True)\n",
        "labeled_data_df = pd.concat([labeled_data_df, eta_global_labeled],ignore_index=True)\n",
        "labeled_data_df = pd.concat([labeled_data_df, deoku_labeled],ignore_index=True)\n",
        "labeled_data_df = pd.concat([labeled_data_df, ppomppu_labeled],ignore_index=True)\n",
        "labeled_data_df = pd.concat([labeled_data_df, ppomppu2_labeled],ignore_index=True)\n",
        "labeled_data_df = pd.concat([labeled_data_df, youtube_labeled],ignore_index=True)\n",
        "labeled_data_df = pd.concat([labeled_data_df, navernews_labeled],ignore_index=True)\n",
        "labeled_data_df = pd.concat([labeled_data_df, nate_pann_labeled],ignore_index=True)\n",
        "labeled_data_df = pd.concat([labeled_data_df, dc_inside_labeled],ignore_index=True)\n",
        "\n",
        "for column in labeled_data_df.columns:\n",
        "    if column != 'comment':\n",
        "        labeled_data_df = labeled_data_df.drop(column, axis=1)\n",
        "\n",
        "labeled_data_df.to_csv(\"/content/drive/MyDrive/Project_FINAL/total_data.csv\", encoding='utf-8-sig', index=False)\n",
        "\n",
        "labeled_data_df"
      ],
      "execution_count": null,
      "outputs": [
        {
          "output_type": "execute_result",
          "data": {
            "text/html": [
              "<div>\n",
              "<style scoped>\n",
              "    .dataframe tbody tr th:only-of-type {\n",
              "        vertical-align: middle;\n",
              "    }\n",
              "\n",
              "    .dataframe tbody tr th {\n",
              "        vertical-align: top;\n",
              "    }\n",
              "\n",
              "    .dataframe thead th {\n",
              "        text-align: right;\n",
              "    }\n",
              "</style>\n",
              "<table border=\"1\" class=\"dataframe\">\n",
              "  <thead>\n",
              "    <tr style=\"text-align: right;\">\n",
              "      <th></th>\n",
              "      <th>comment</th>\n",
              "    </tr>\n",
              "  </thead>\n",
              "  <tbody>\n",
              "    <tr>\n",
              "      <th>0</th>\n",
              "      <td>1</td>\n",
              "    </tr>\n",
              "    <tr>\n",
              "      <th>1</th>\n",
              "      <td>1</td>\n",
              "    </tr>\n",
              "    <tr>\n",
              "      <th>2</th>\n",
              "      <td>4</td>\n",
              "    </tr>\n",
              "    <tr>\n",
              "      <th>3</th>\n",
              "      <td>4</td>\n",
              "    </tr>\n",
              "    <tr>\n",
              "      <th>4</th>\n",
              "      <td>0</td>\n",
              "    </tr>\n",
              "    <tr>\n",
              "      <th>...</th>\n",
              "      <td>...</td>\n",
              "    </tr>\n",
              "    <tr>\n",
              "      <th>1996139</th>\n",
              "      <td>야갤하는 여자는 도대체 어떤 인생을 사는 걸까</td>\n",
              "    </tr>\n",
              "    <tr>\n",
              "      <th>1996140</th>\n",
              "      <td>섹스</td>\n",
              "    </tr>\n",
              "    <tr>\n",
              "      <th>1996141</th>\n",
              "      <td>pp</td>\n",
              "    </tr>\n",
              "    <tr>\n",
              "      <th>1996142</th>\n",
              "      <td>흐읏흥</td>\n",
              "    </tr>\n",
              "    <tr>\n",
              "      <th>1996143</th>\n",
              "      <td>여친 그려봄 이쁘냐?</td>\n",
              "    </tr>\n",
              "  </tbody>\n",
              "</table>\n",
              "<p>1996144 rows × 1 columns</p>\n",
              "</div>"
            ],
            "text/plain": [
              "                           comment\n",
              "0                                1\n",
              "1                                1\n",
              "2                                4\n",
              "3                                4\n",
              "4                                0\n",
              "...                            ...\n",
              "1996139  야갤하는 여자는 도대체 어떤 인생을 사는 걸까\n",
              "1996140                         섹스\n",
              "1996141                         pp\n",
              "1996142                        흐읏흥\n",
              "1996143                여친 그려봄 이쁘냐?\n",
              "\n",
              "[1996144 rows x 1 columns]"
            ]
          },
          "metadata": {},
          "execution_count": 11
        }
      ]
    },
    {
      "cell_type": "code",
      "metadata": {
        "id": "r6CIZii8A4YW"
      },
      "source": [
        "from soynlp import DoublespaceLineCorpus\n",
        "from soynlp.word import WordExtractor\n",
        "import pandas as pd\n",
        "\n",
        "df = labeled_data_df # pd.read_csv(\"/content/drive/MyDrive/Project_FINAL/total_data.csv\", encoding=\"utf-8\", engine=\"python\") # raw data 불러오기\n",
        "\n",
        "train_corpus = \"\" # raw data를 쭉이을 빈 문자열\n",
        "\n",
        "df['comment'] = df['comment'].apply(lambda x: str(x))\n",
        "df['process'] = df['comment'].apply(lambda x: text_preprocess(x)) # 불필요한 문자 제거\n",
        "\n",
        "for i in range(len(df['process'])):\n",
        "    train_corpus += df['process'][i] + '\\n' # 문자열을 쭉 이음.\n",
        "\n",
        "for i in range(2):\n",
        "    train_corpus += train_corpus + '\\n'"
      ],
      "execution_count": null,
      "outputs": []
    },
    {
      "cell_type": "code",
      "metadata": {
        "id": "zYGlxRAvw-OY"
      },
      "source": [
        "with open(\"/content/drive/MyDrive/Project_FINAL/train_corpus.txt\", 'w') as file: # txt 파일로 저장\n",
        "    file.write(train_corpus)"
      ],
      "execution_count": null,
      "outputs": []
    },
    {
      "cell_type": "code",
      "metadata": {
        "id": "uXkXmIgDCJEX",
        "colab": {
          "base_uri": "https://localhost:8080/"
        },
        "outputId": "f0b49eb1-c0f6-48ad-80bb-1b18cf089b4e"
      },
      "source": [
        "train_corpus = DoublespaceLineCorpus(\"/content/drive/MyDrive/Project_FINAL/train_corpus.txt\") # 저장한 txt 파일로 변환\n",
        "len(train_corpus)"
      ],
      "execution_count": null,
      "outputs": [
        {
          "output_type": "execute_result",
          "data": {
            "text/plain": [
              "3060435"
            ]
          },
          "metadata": {
            "tags": []
          },
          "execution_count": 6
        }
      ]
    },
    {
      "cell_type": "code",
      "metadata": {
        "colab": {
          "base_uri": "https://localhost:8080/"
        },
        "id": "1tB7J8MeCOOF",
        "outputId": "8b0a9e3e-a0b0-46d6-bfd1-41f30449bdbc"
      },
      "source": [
        "# 코퍼스로 학습\n",
        "word_extractor = WordExtractor()\n",
        "word_extractor.train(train_corpus)\n",
        "word_score_table = word_extractor.extract()"
      ],
      "execution_count": null,
      "outputs": [
        {
          "output_type": "stream",
          "text": [
            "training was done. used memory 2.600 Gb\n",
            "all cohesion probabilities was computed. # words = 518782\n",
            "all branching entropies was computed # words = 1595913\n",
            "all accessor variety was computed # words = 1595913\n"
          ],
          "name": "stdout"
        }
      ]
    },
    {
      "cell_type": "code",
      "metadata": {
        "colab": {
          "base_uri": "https://localhost:8080/",
          "height": 422
        },
        "id": "6_hzsHHhCQNl",
        "outputId": "3022e4b5-1db2-4d69-b159-47cdc8905444"
      },
      "source": [
        "#후보 신조어 불러오기\n",
        "partial_words_df = pd.read_csv(\"/content/drive/MyDrive/Project_FINAL/partial_total.csv\")\n",
        "\n",
        "partial_words_df"
      ],
      "execution_count": null,
      "outputs": [
        {
          "output_type": "execute_result",
          "data": {
            "text/html": [
              "<div>\n",
              "<style scoped>\n",
              "    .dataframe tbody tr th:only-of-type {\n",
              "        vertical-align: middle;\n",
              "    }\n",
              "\n",
              "    .dataframe tbody tr th {\n",
              "        vertical-align: top;\n",
              "    }\n",
              "\n",
              "    .dataframe thead th {\n",
              "        text-align: right;\n",
              "    }\n",
              "</style>\n",
              "<table border=\"1\" class=\"dataframe\">\n",
              "  <thead>\n",
              "    <tr style=\"text-align: right;\">\n",
              "      <th></th>\n",
              "      <th>partial_words</th>\n",
              "      <th>freq</th>\n",
              "      <th>freq_ratio</th>\n",
              "    </tr>\n",
              "  </thead>\n",
              "  <tbody>\n",
              "    <tr>\n",
              "      <th>0</th>\n",
              "      <td>하는</td>\n",
              "      <td>129084</td>\n",
              "      <td>0.270207</td>\n",
              "    </tr>\n",
              "    <tr>\n",
              "      <th>1</th>\n",
              "      <td>부탁해</td>\n",
              "      <td>45032</td>\n",
              "      <td>0.094264</td>\n",
              "    </tr>\n",
              "    <tr>\n",
              "      <th>2</th>\n",
              "      <td>댓글부탁</td>\n",
              "      <td>44000</td>\n",
              "      <td>0.092104</td>\n",
              "    </tr>\n",
              "    <tr>\n",
              "      <th>3</th>\n",
              "      <td>댓글부</td>\n",
              "      <td>43948</td>\n",
              "      <td>0.091995</td>\n",
              "    </tr>\n",
              "    <tr>\n",
              "      <th>4</th>\n",
              "      <td>있는</td>\n",
              "      <td>43772</td>\n",
              "      <td>0.091627</td>\n",
              "    </tr>\n",
              "    <tr>\n",
              "      <th>...</th>\n",
              "      <td>...</td>\n",
              "      <td>...</td>\n",
              "      <td>...</td>\n",
              "    </tr>\n",
              "    <tr>\n",
              "      <th>23210</th>\n",
              "      <td>안한거지</td>\n",
              "      <td>64</td>\n",
              "      <td>0.000134</td>\n",
              "    </tr>\n",
              "    <tr>\n",
              "      <th>23211</th>\n",
              "      <td>특히나</td>\n",
              "      <td>64</td>\n",
              "      <td>0.000134</td>\n",
              "    </tr>\n",
              "    <tr>\n",
              "      <th>23212</th>\n",
              "      <td>뉴온달</td>\n",
              "      <td>64</td>\n",
              "      <td>0.000134</td>\n",
              "    </tr>\n",
              "    <tr>\n",
              "      <th>23213</th>\n",
              "      <td>수집완료</td>\n",
              "      <td>64</td>\n",
              "      <td>0.000134</td>\n",
              "    </tr>\n",
              "    <tr>\n",
              "      <th>23214</th>\n",
              "      <td>해리포터에서</td>\n",
              "      <td>64</td>\n",
              "      <td>0.000134</td>\n",
              "    </tr>\n",
              "  </tbody>\n",
              "</table>\n",
              "<p>23215 rows × 3 columns</p>\n",
              "</div>"
            ],
            "text/plain": [
              "      partial_words    freq  freq_ratio\n",
              "0                하는  129084    0.270207\n",
              "1               부탁해   45032    0.094264\n",
              "2              댓글부탁   44000    0.092104\n",
              "3               댓글부   43948    0.091995\n",
              "4                있는   43772    0.091627\n",
              "...             ...     ...         ...\n",
              "23210          안한거지      64    0.000134\n",
              "23211           특히나      64    0.000134\n",
              "23212           뉴온달      64    0.000134\n",
              "23213          수집완료      64    0.000134\n",
              "23214        해리포터에서      64    0.000134\n",
              "\n",
              "[23215 rows x 3 columns]"
            ]
          },
          "metadata": {
            "tags": []
          },
          "execution_count": 8
        }
      ]
    },
    {
      "cell_type": "code",
      "metadata": {
        "colab": {
          "base_uri": "https://localhost:8080/"
        },
        "id": "FE-2jWhj1xow",
        "outputId": "1714160e-34ce-418f-d54a-c328cb3af62d"
      },
      "source": [
        "word_score_table['야알못'].leftside_frequency # 단어가 잘 되었는지 테스트, 단어는 알아서 바꾸세요."
      ],
      "execution_count": null,
      "outputs": [
        {
          "output_type": "execute_result",
          "data": {
            "text/plain": [
              "1432"
            ]
          },
          "metadata": {
            "tags": []
          },
          "execution_count": 9
        }
      ]
    },
    {
      "cell_type": "code",
      "metadata": {
        "id": "LMxQHa5G3ZqI",
        "colab": {
          "base_uri": "https://localhost:8080/"
        },
        "outputId": "8d82c1f0-d77e-4b0e-f607-0f26db65b335"
      },
      "source": [
        "# KeyError가 나지 않는 부분 단어들만 따로 저장.\n",
        "\n",
        "partial_words_extracted = []\n",
        "freq_extracted = []\n",
        "freq_ratio_extracted = []\n",
        "\n",
        "for i in range(len(partial_words_df['partial_words'])):\n",
        "    try:\n",
        "        word_score_table[partial_words_df['partial_words'][i]]\n",
        "        partial_words_extracted.append(partial_words_df['partial_words'][i])\n",
        "        freq_extracted.append(partial_words_df['freq'][i])\n",
        "        freq_ratio_extracted.append(partial_words_df['freq_ratio'][i])\n",
        "    except KeyError:\n",
        "        pass\n",
        "\n",
        "partial_data = {\n",
        "    'partial_words': partial_words_extracted,\n",
        "    'freq': freq_extracted,\n",
        "    'freq_ratio': freq_ratio_extracted\n",
        "}\n",
        "\n",
        "partial_words_df = pd.DataFrame(partial_data)\n",
        "\n",
        "partial_words_df.shape"
      ],
      "execution_count": null,
      "outputs": [
        {
          "output_type": "execute_result",
          "data": {
            "text/plain": [
              "(23215, 3)"
            ]
          },
          "metadata": {
            "tags": []
          },
          "execution_count": 10
        }
      ]
    },
    {
      "cell_type": "code",
      "metadata": {
        "colab": {
          "base_uri": "https://localhost:8080/",
          "height": 422
        },
        "id": "Jd10tOaq5BLy",
        "outputId": "b5a7b7e0-b0d6-4cac-bf88-b2af82f59a5d"
      },
      "source": [
        "partial_words_df"
      ],
      "execution_count": null,
      "outputs": [
        {
          "output_type": "execute_result",
          "data": {
            "text/html": [
              "<div>\n",
              "<style scoped>\n",
              "    .dataframe tbody tr th:only-of-type {\n",
              "        vertical-align: middle;\n",
              "    }\n",
              "\n",
              "    .dataframe tbody tr th {\n",
              "        vertical-align: top;\n",
              "    }\n",
              "\n",
              "    .dataframe thead th {\n",
              "        text-align: right;\n",
              "    }\n",
              "</style>\n",
              "<table border=\"1\" class=\"dataframe\">\n",
              "  <thead>\n",
              "    <tr style=\"text-align: right;\">\n",
              "      <th></th>\n",
              "      <th>partial_words</th>\n",
              "      <th>freq</th>\n",
              "      <th>freq_ratio</th>\n",
              "    </tr>\n",
              "  </thead>\n",
              "  <tbody>\n",
              "    <tr>\n",
              "      <th>0</th>\n",
              "      <td>하는</td>\n",
              "      <td>129084</td>\n",
              "      <td>0.270207</td>\n",
              "    </tr>\n",
              "    <tr>\n",
              "      <th>1</th>\n",
              "      <td>부탁해</td>\n",
              "      <td>45032</td>\n",
              "      <td>0.094264</td>\n",
              "    </tr>\n",
              "    <tr>\n",
              "      <th>2</th>\n",
              "      <td>댓글부탁</td>\n",
              "      <td>44000</td>\n",
              "      <td>0.092104</td>\n",
              "    </tr>\n",
              "    <tr>\n",
              "      <th>3</th>\n",
              "      <td>댓글부</td>\n",
              "      <td>43948</td>\n",
              "      <td>0.091995</td>\n",
              "    </tr>\n",
              "    <tr>\n",
              "      <th>4</th>\n",
              "      <td>있는</td>\n",
              "      <td>43772</td>\n",
              "      <td>0.091627</td>\n",
              "    </tr>\n",
              "    <tr>\n",
              "      <th>...</th>\n",
              "      <td>...</td>\n",
              "      <td>...</td>\n",
              "      <td>...</td>\n",
              "    </tr>\n",
              "    <tr>\n",
              "      <th>23210</th>\n",
              "      <td>안한거지</td>\n",
              "      <td>64</td>\n",
              "      <td>0.000134</td>\n",
              "    </tr>\n",
              "    <tr>\n",
              "      <th>23211</th>\n",
              "      <td>특히나</td>\n",
              "      <td>64</td>\n",
              "      <td>0.000134</td>\n",
              "    </tr>\n",
              "    <tr>\n",
              "      <th>23212</th>\n",
              "      <td>뉴온달</td>\n",
              "      <td>64</td>\n",
              "      <td>0.000134</td>\n",
              "    </tr>\n",
              "    <tr>\n",
              "      <th>23213</th>\n",
              "      <td>수집완료</td>\n",
              "      <td>64</td>\n",
              "      <td>0.000134</td>\n",
              "    </tr>\n",
              "    <tr>\n",
              "      <th>23214</th>\n",
              "      <td>해리포터에서</td>\n",
              "      <td>64</td>\n",
              "      <td>0.000134</td>\n",
              "    </tr>\n",
              "  </tbody>\n",
              "</table>\n",
              "<p>23215 rows × 3 columns</p>\n",
              "</div>"
            ],
            "text/plain": [
              "      partial_words    freq  freq_ratio\n",
              "0                하는  129084    0.270207\n",
              "1               부탁해   45032    0.094264\n",
              "2              댓글부탁   44000    0.092104\n",
              "3               댓글부   43948    0.091995\n",
              "4                있는   43772    0.091627\n",
              "...             ...     ...         ...\n",
              "23210          안한거지      64    0.000134\n",
              "23211           특히나      64    0.000134\n",
              "23212           뉴온달      64    0.000134\n",
              "23213          수집완료      64    0.000134\n",
              "23214        해리포터에서      64    0.000134\n",
              "\n",
              "[23215 rows x 3 columns]"
            ]
          },
          "metadata": {
            "tags": []
          },
          "execution_count": 11
        }
      ]
    },
    {
      "cell_type": "code",
      "metadata": {
        "id": "YlWGYWiPH7Q4",
        "colab": {
          "base_uri": "https://localhost:8080/"
        },
        "outputId": "73118bd4-8151-4a0d-a8c7-6db1bf8237bf"
      },
      "source": [
        "# 필요한 변수들 계산\n",
        "partial_words_df['length'] = partial_words_df['partial_words'].apply(lambda x: len(x))\n",
        "partial_words_df['cohesion_forward'] = partial_words_df['partial_words'].apply(lambda x: word_score_table[x].cohesion_forward)\n",
        "partial_words_df['left_branching_entropy'] = partial_words_df['partial_words'].apply(lambda x: word_score_table[x].left_branching_entropy)\n",
        "partial_words_df['right_branching_entropy'] = partial_words_df['partial_words'].apply(lambda x: word_score_table[x].right_branching_entropy)\n",
        "partial_words_df['left_accessor_variety'] = partial_words_df['partial_words'].apply(lambda x: word_score_table[x].left_accessor_variety)\n",
        "partial_words_df['starts_ratio'] = partial_words_df['partial_words'].apply(lambda x: word_score_table[x].leftside_frequency)\n",
        "\n",
        "for i in range(len(partial_words_df['starts_ratio'])):\n",
        "    partial_words_df['starts_ratio'][i] = (partial_words_df['starts_ratio'][i] / partial_words_df['freq'][i]) * 100"
      ],
      "execution_count": null,
      "outputs": [
        {
          "output_type": "stream",
          "text": [
            "/usr/local/lib/python3.7/dist-packages/ipykernel_launcher.py:10: SettingWithCopyWarning: \n",
            "A value is trying to be set on a copy of a slice from a DataFrame\n",
            "\n",
            "See the caveats in the documentation: https://pandas.pydata.org/pandas-docs/stable/user_guide/indexing.html#returning-a-view-versus-a-copy\n",
            "  # Remove the CWD from sys.path while we load stuff.\n"
          ],
          "name": "stderr"
        }
      ]
    },
    {
      "cell_type": "code",
      "metadata": {
        "colab": {
          "base_uri": "https://localhost:8080/",
          "height": 422
        },
        "id": "lyLXYoQ23ZKp",
        "outputId": "702b3fb2-fdc5-4d78-a7d8-4b8116e0905d"
      },
      "source": [
        "partial_words_df['label'] = [0] * len(partial_words_df['partial_words'])\n",
        "\n",
        "partial_words_df"
      ],
      "execution_count": null,
      "outputs": [
        {
          "output_type": "execute_result",
          "data": {
            "text/html": [
              "<div>\n",
              "<style scoped>\n",
              "    .dataframe tbody tr th:only-of-type {\n",
              "        vertical-align: middle;\n",
              "    }\n",
              "\n",
              "    .dataframe tbody tr th {\n",
              "        vertical-align: top;\n",
              "    }\n",
              "\n",
              "    .dataframe thead th {\n",
              "        text-align: right;\n",
              "    }\n",
              "</style>\n",
              "<table border=\"1\" class=\"dataframe\">\n",
              "  <thead>\n",
              "    <tr style=\"text-align: right;\">\n",
              "      <th></th>\n",
              "      <th>partial_words</th>\n",
              "      <th>freq</th>\n",
              "      <th>freq_ratio</th>\n",
              "      <th>length</th>\n",
              "      <th>cohesion_forward</th>\n",
              "      <th>left_branching_entropy</th>\n",
              "      <th>right_branching_entropy</th>\n",
              "      <th>left_accessor_variety</th>\n",
              "      <th>starts_ratio</th>\n",
              "      <th>label</th>\n",
              "    </tr>\n",
              "  </thead>\n",
              "  <tbody>\n",
              "    <tr>\n",
              "      <th>0</th>\n",
              "      <td>하는</td>\n",
              "      <td>129084</td>\n",
              "      <td>0.270207</td>\n",
              "      <td>2</td>\n",
              "      <td>0.271166</td>\n",
              "      <td>5.339681</td>\n",
              "      <td>5.138724</td>\n",
              "      <td>919</td>\n",
              "      <td>29</td>\n",
              "      <td>0</td>\n",
              "    </tr>\n",
              "    <tr>\n",
              "      <th>1</th>\n",
              "      <td>부탁해</td>\n",
              "      <td>45032</td>\n",
              "      <td>0.094264</td>\n",
              "      <td>3</td>\n",
              "      <td>0.090885</td>\n",
              "      <td>0.187021</td>\n",
              "      <td>3.773582</td>\n",
              "      <td>57</td>\n",
              "      <td>1</td>\n",
              "      <td>0</td>\n",
              "    </tr>\n",
              "    <tr>\n",
              "      <th>2</th>\n",
              "      <td>댓글부탁</td>\n",
              "      <td>44000</td>\n",
              "      <td>0.092104</td>\n",
              "      <td>4</td>\n",
              "      <td>0.939333</td>\n",
              "      <td>1.945910</td>\n",
              "      <td>0.014704</td>\n",
              "      <td>7</td>\n",
              "      <td>99</td>\n",
              "      <td>0</td>\n",
              "    </tr>\n",
              "    <tr>\n",
              "      <th>3</th>\n",
              "      <td>댓글부</td>\n",
              "      <td>43948</td>\n",
              "      <td>0.091995</td>\n",
              "      <td>3</td>\n",
              "      <td>0.910643</td>\n",
              "      <td>2.484907</td>\n",
              "      <td>0.004263</td>\n",
              "      <td>12</td>\n",
              "      <td>100</td>\n",
              "      <td>0</td>\n",
              "    </tr>\n",
              "    <tr>\n",
              "      <th>4</th>\n",
              "      <td>있는</td>\n",
              "      <td>43772</td>\n",
              "      <td>0.091627</td>\n",
              "      <td>2</td>\n",
              "      <td>0.311924</td>\n",
              "      <td>3.351824</td>\n",
              "      <td>5.005769</td>\n",
              "      <td>376</td>\n",
              "      <td>77</td>\n",
              "      <td>0</td>\n",
              "    </tr>\n",
              "    <tr>\n",
              "      <th>...</th>\n",
              "      <td>...</td>\n",
              "      <td>...</td>\n",
              "      <td>...</td>\n",
              "      <td>...</td>\n",
              "      <td>...</td>\n",
              "      <td>...</td>\n",
              "      <td>...</td>\n",
              "      <td>...</td>\n",
              "      <td>...</td>\n",
              "      <td>...</td>\n",
              "    </tr>\n",
              "    <tr>\n",
              "      <th>23210</th>\n",
              "      <td>안한거지</td>\n",
              "      <td>64</td>\n",
              "      <td>0.000134</td>\n",
              "      <td>4</td>\n",
              "      <td>0.079161</td>\n",
              "      <td>1.927392</td>\n",
              "      <td>2.252728</td>\n",
              "      <td>9</td>\n",
              "      <td>100</td>\n",
              "      <td>0</td>\n",
              "    </tr>\n",
              "    <tr>\n",
              "      <th>23211</th>\n",
              "      <td>특히나</td>\n",
              "      <td>64</td>\n",
              "      <td>0.000134</td>\n",
              "      <td>3</td>\n",
              "      <td>0.065477</td>\n",
              "      <td>2.512659</td>\n",
              "      <td>2.084430</td>\n",
              "      <td>13</td>\n",
              "      <td>100</td>\n",
              "      <td>0</td>\n",
              "    </tr>\n",
              "    <tr>\n",
              "      <th>23212</th>\n",
              "      <td>뉴온달</td>\n",
              "      <td>64</td>\n",
              "      <td>0.000134</td>\n",
              "      <td>3</td>\n",
              "      <td>0.082026</td>\n",
              "      <td>2.014036</td>\n",
              "      <td>1.799959</td>\n",
              "      <td>10</td>\n",
              "      <td>100</td>\n",
              "      <td>0</td>\n",
              "    </tr>\n",
              "    <tr>\n",
              "      <th>23213</th>\n",
              "      <td>수집완료</td>\n",
              "      <td>64</td>\n",
              "      <td>0.000134</td>\n",
              "      <td>4</td>\n",
              "      <td>0.096823</td>\n",
              "      <td>0.000000</td>\n",
              "      <td>0.000000</td>\n",
              "      <td>0</td>\n",
              "      <td>100</td>\n",
              "      <td>0</td>\n",
              "    </tr>\n",
              "    <tr>\n",
              "      <th>23214</th>\n",
              "      <td>해리포터에서</td>\n",
              "      <td>64</td>\n",
              "      <td>0.000134</td>\n",
              "      <td>6</td>\n",
              "      <td>0.245194</td>\n",
              "      <td>0.000000</td>\n",
              "      <td>2.393312</td>\n",
              "      <td>0</td>\n",
              "      <td>100</td>\n",
              "      <td>0</td>\n",
              "    </tr>\n",
              "  </tbody>\n",
              "</table>\n",
              "<p>23215 rows × 10 columns</p>\n",
              "</div>"
            ],
            "text/plain": [
              "      partial_words    freq  ...  starts_ratio  label\n",
              "0                하는  129084  ...            29      0\n",
              "1               부탁해   45032  ...             1      0\n",
              "2              댓글부탁   44000  ...            99      0\n",
              "3               댓글부   43948  ...           100      0\n",
              "4                있는   43772  ...            77      0\n",
              "...             ...     ...  ...           ...    ...\n",
              "23210          안한거지      64  ...           100      0\n",
              "23211           특히나      64  ...           100      0\n",
              "23212           뉴온달      64  ...           100      0\n",
              "23213          수집완료      64  ...           100      0\n",
              "23214        해리포터에서      64  ...           100      0\n",
              "\n",
              "[23215 rows x 10 columns]"
            ]
          },
          "metadata": {
            "tags": []
          },
          "execution_count": 13
        }
      ]
    },
    {
      "cell_type": "code",
      "metadata": {
        "id": "kNzirSGwQ7Q1"
      },
      "source": [
        "partial_words_df.to_csv(\"/content/drive/MyDrive/Project_FINAL/variables.csv\", encoding='utf-8-sig', index=False)"
      ],
      "execution_count": null,
      "outputs": []
    },
    {
      "cell_type": "markdown",
      "metadata": {
        "id": "lpK1YUH5Q7lq"
      },
      "source": [
        "#----------------절취선-------------------"
      ]
    },
    {
      "cell_type": "code",
      "metadata": {
        "id": "nWRvusss3on7",
        "colab": {
          "base_uri": "https://localhost:8080/"
        },
        "outputId": "05960415-694a-48ef-f875-c6dbb9f020fc"
      },
      "source": [
        "eta_secret_labeled = pd.read_csv(\"/content/drive/MyDrive/Project_FINAL/labeled_variables/variables_eta비.csv\")\n",
        "eta_sisa_labeled = pd.read_csv(\"/content/drive/MyDrive/Project_FINAL/labeled_variables/variables_eta시사.csv\")\n",
        "eta_global_labeled = pd.read_csv(\"/content/drive/MyDrive/Project_FINAL/labeled_variables/variables_eta글자게.csv\")\n",
        "deoku_labeled = pd.read_csv(\"/content/drive/MyDrive/Project_FINAL/labeled_variables/variables_deoku.csv\")\n",
        "ppomppu_labeled = pd.read_csv(\"/content/drive/MyDrive/Project_FINAL/labeled_variables/variables_ppom1_label.csv\")\n",
        "youtube_labeled = pd.read_csv(\"/content/drive/MyDrive/Project_FINAL/labeled_variables/variables_youtube.csv\")\n",
        "navernews_labeled = pd.read_csv(\"/content/drive/MyDrive/Project_FINAL/labeled_variables/variables_네이버뉴스.csv\")\n",
        "nate_pann_labeled = pd.read_csv(\"/content/drive/MyDrive/Project_FINAL/labeled_variables/nate_variables_labeled.csv\")\n",
        "dc_inside_labeled = pd.read_csv(\"/content/drive/MyDrive/Project_FINAL/labeled_variables/dc_variables_labeled.csv\")\n",
        "\n",
        "labeled_data_df = pd.concat([eta_secret_labeled, eta_sisa_labeled],ignore_index=True)\n",
        "labeled_data_df = pd.concat([labeled_data_df, eta_global_labeled],ignore_index=True)\n",
        "labeled_data_df = pd.concat([labeled_data_df, deoku_labeled],ignore_index=True)\n",
        "labeled_data_df = pd.concat([labeled_data_df, ppomppu_labeled],ignore_index=True)\n",
        "labeled_data_df = pd.concat([labeled_data_df, youtube_labeled],ignore_index=True)\n",
        "labeled_data_df = pd.concat([labeled_data_df, navernews_labeled],ignore_index=True)\n",
        "labeled_data_df = pd.concat([labeled_data_df, nate_pann_labeled],ignore_index=True)\n",
        "labeled_data_df = pd.concat([labeled_data_df, dc_inside_labeled],ignore_index=True)\n",
        "\n",
        "\n",
        "labeled_data_df = labeled_data_df.drop(['Unnamed: 0'], axis=1)\n",
        "\n",
        "labeled_dict = {k: 0 for k in labeled_data_df['partial_words']}\n",
        "\n",
        "for i in range(len(labeled_data_df)):\n",
        "    labeled_dict[labeled_data_df['partial_words'][i]] = labeled_data_df['label'][i]\n",
        "    \n",
        "for i in range(0, len(partial_words_df)):\n",
        "    try:\n",
        "        partial_words_df['label'][i] = labeled_dict[partial_words_df['partial_words'][i]]\n",
        "    except KeyError:\n",
        "        partial_words_df['label'][i] = -1\n",
        "        \n",
        "partial_words_df.to_csv(\"/content/drive/MyDrive/Project_FINAL/labeled.csv\", encoding='utf-8-sig', index=False)"
      ],
      "execution_count": null,
      "outputs": [
        {
          "output_type": "stream",
          "text": [
            "/usr/local/lib/python3.7/dist-packages/ipykernel_launcher.py:30: SettingWithCopyWarning: \n",
            "A value is trying to be set on a copy of a slice from a DataFrame\n",
            "\n",
            "See the caveats in the documentation: https://pandas.pydata.org/pandas-docs/stable/user_guide/indexing.html#returning-a-view-versus-a-copy\n",
            "/usr/local/lib/python3.7/dist-packages/ipykernel_launcher.py:32: SettingWithCopyWarning: \n",
            "A value is trying to be set on a copy of a slice from a DataFrame\n",
            "\n",
            "See the caveats in the documentation: https://pandas.pydata.org/pandas-docs/stable/user_guide/indexing.html#returning-a-view-versus-a-copy\n"
          ],
          "name": "stderr"
        }
      ]
    },
    {
      "cell_type": "code",
      "metadata": {
        "id": "R9LfAc5NUgF7"
      },
      "source": [
        "labeled_data_df.to_csv(\"/content/drive/MyDrive/Project_FINAL/total_labeled_data.csv\", encoding=\"utf-8-sig\", index=False)"
      ],
      "execution_count": null,
      "outputs": []
    },
    {
      "cell_type": "code",
      "metadata": {
        "id": "yQDeKqzXy5P5"
      },
      "source": [],
      "execution_count": null,
      "outputs": []
    }
  ]
}