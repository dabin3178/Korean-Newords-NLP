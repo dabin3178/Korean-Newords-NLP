{
  "nbformat": 4,
  "nbformat_minor": 0,
  "metadata": {
    "colab": {
      "provenance": [],
      "mount_file_id": "14qVv3BNDlh8EnYPSdmi625cXiioCIcgk",
      "authorship_tag": "ABX9TyO6Yz6haWEtxxLQmD54j9VO",
      "include_colab_link": true
    },
    "kernelspec": {
      "name": "python3",
      "display_name": "Python 3"
    },
    "language_info": {
      "name": "python"
    }
  },
  "cells": [
    {
      "cell_type": "markdown",
      "metadata": {
        "id": "view-in-github",
        "colab_type": "text"
      },
      "source": [
        "<a href=\"https://colab.research.google.com/github/dabin3178/Korean-Newords-NLP/blob/main/%EA%B2%BD%ED%96%A5%EC%84%B1_%EB%B6%84%EC%84%9D.ipynb\" target=\"_parent\"><img src=\"https://colab.research.google.com/assets/colab-badge.svg\" alt=\"Open In Colab\"/></a>"
      ]
    },
    {
      "cell_type": "code",
      "metadata": {
        "id": "8BnKSJ38NvGP"
      },
      "source": [],
      "execution_count": null,
      "outputs": []
    },
    {
      "cell_type": "code",
      "metadata": {
        "colab": {
          "base_uri": "https://localhost:8080/"
        },
        "id": "4iM3lX1Q3ev-",
        "outputId": "6b5cc285-605a-496c-85c3-f1ed0c9bf449"
      },
      "source": [
        "from google.colab import drive\n",
        "drive.mount('/content/drive')"
      ],
      "execution_count": null,
      "outputs": [
        {
          "output_type": "stream",
          "text": [
            "Drive already mounted at /content/drive; to attempt to forcibly remount, call drive.mount(\"/content/drive\", force_remount=True).\n"
          ],
          "name": "stdout"
        }
      ]
    },
    {
      "cell_type": "code",
      "metadata": {
        "id": "IziD4ctDPLJF"
      },
      "source": [
        "#추출된 신조어와 감성분석 결과 불러오기\n",
        "import pandas as pd\n",
        "import numpy as np\n",
        "\n",
        "a = pd.read_csv(\"/content/drive/MyDrive/Project/total_answers.csv\") #신조어\n",
        "b = pd.read_csv(\"/content/drive/MyDrive/Project/cnn_result.csv\") #감성분석"
      ],
      "execution_count": null,
      "outputs": []
    },
    {
      "cell_type": "code",
      "metadata": {
        "colab": {
          "base_uri": "https://localhost:8080/"
        },
        "id": "iM7QzED5vBcd",
        "outputId": "8adbb42d-b423-4569-d426-e2f1f496f335"
      },
      "source": [
        "a1 = a.values\n",
        "a1"
      ],
      "execution_count": null,
      "outputs": [
        {
          "output_type": "execute_result",
          "data": {
            "text/plain": [
              "array([['슈퍼콘'],\n",
              "       ['왜그러'],\n",
              "       ['로스쿨'],\n",
              "       ...,\n",
              "       ['장성규'],\n",
              "       ['로맨틱코미디'],\n",
              "       ['멀티골']], dtype=object)"
            ]
          },
          "metadata": {},
          "execution_count": 4
        }
      ]
    },
    {
      "cell_type": "code",
      "metadata": {
        "colab": {
          "base_uri": "https://localhost:8080/",
          "height": 417
        },
        "id": "M8HGgjopnmfe",
        "outputId": "97cf8154-8950-4c51-d186-0a82d78f8243"
      },
      "source": [
        "b"
      ],
      "execution_count": null,
      "outputs": [
        {
          "output_type": "execute_result",
          "data": {
            "text/html": [
              "<div>\n",
              "<style scoped>\n",
              "    .dataframe tbody tr th:only-of-type {\n",
              "        vertical-align: middle;\n",
              "    }\n",
              "\n",
              "    .dataframe tbody tr th {\n",
              "        vertical-align: top;\n",
              "    }\n",
              "\n",
              "    .dataframe thead th {\n",
              "        text-align: right;\n",
              "    }\n",
              "</style>\n",
              "<table border=\"1\" class=\"dataframe\">\n",
              "  <thead>\n",
              "    <tr style=\"text-align: right;\">\n",
              "      <th></th>\n",
              "      <th>title</th>\n",
              "      <th>sentiment</th>\n",
              "    </tr>\n",
              "  </thead>\n",
              "  <tbody>\n",
              "    <tr>\n",
              "      <th>0</th>\n",
              "      <td>와 징동이 플옵 나가리네</td>\n",
              "      <td>0.198661</td>\n",
              "    </tr>\n",
              "    <tr>\n",
              "      <th>1</th>\n",
              "      <td>와 무지개 대박!!</td>\n",
              "      <td>0.731662</td>\n",
              "    </tr>\n",
              "    <tr>\n",
              "      <th>2</th>\n",
              "      <td>좆구리는 정글빨로 겜한다니까 그러네..</td>\n",
              "      <td>0.081370</td>\n",
              "    </tr>\n",
              "    <tr>\n",
              "      <th>3</th>\n",
              "      <td>근데 지금 이렐이 너무 독보적으로 좆사기임 ㅋㅋ</td>\n",
              "      <td>0.172239</td>\n",
              "    </tr>\n",
              "    <tr>\n",
              "      <th>4</th>\n",
              "      <td>롤 자유랭 즐겜 너만오면 ㄱ</td>\n",
              "      <td>0.328362</td>\n",
              "    </tr>\n",
              "    <tr>\n",
              "      <th>...</th>\n",
              "      <td>...</td>\n",
              "      <td>...</td>\n",
              "    </tr>\n",
              "    <tr>\n",
              "      <th>50423</th>\n",
              "      <td>오랜만에 평점 로긴했네ㅋㅋ 킹왕짱 쌈뽕한 영화를 만났습니다 강렬하게 육쾌함</td>\n",
              "      <td>0.923576</td>\n",
              "    </tr>\n",
              "    <tr>\n",
              "      <th>50424</th>\n",
              "      <td>의지 박약들이나 하는거다 탈영은 일단 주인공 김대희 닮았고 이등병 찐따 OOOO</td>\n",
              "      <td>0.320827</td>\n",
              "    </tr>\n",
              "    <tr>\n",
              "      <th>50425</th>\n",
              "      <td>그림도 좋고 완성도도 높았지만... 보는 내내 불안하게 만든다</td>\n",
              "      <td>0.116068</td>\n",
              "    </tr>\n",
              "    <tr>\n",
              "      <th>50426</th>\n",
              "      <td>절대 봐서는 안 될 영화.. 재미도 없고 기분만 잡치고.. 한 세트장에서 다 해먹네</td>\n",
              "      <td>0.474217</td>\n",
              "    </tr>\n",
              "    <tr>\n",
              "      <th>50427</th>\n",
              "      <td>마무리는 또 왜이래</td>\n",
              "      <td>0.781201</td>\n",
              "    </tr>\n",
              "  </tbody>\n",
              "</table>\n",
              "<p>50428 rows × 2 columns</p>\n",
              "</div>"
            ],
            "text/plain": [
              "                                                title  sentiment\n",
              "0                                       와 징동이 플옵 나가리네   0.198661\n",
              "1                                          와 무지개 대박!!   0.731662\n",
              "2                               좆구리는 정글빨로 겜한다니까 그러네..   0.081370\n",
              "3                          근데 지금 이렐이 너무 독보적으로 좆사기임 ㅋㅋ   0.172239\n",
              "4                                     롤 자유랭 즐겜 너만오면 ㄱ   0.328362\n",
              "...                                               ...        ...\n",
              "50423       오랜만에 평점 로긴했네ㅋㅋ 킹왕짱 쌈뽕한 영화를 만났습니다 강렬하게 육쾌함   0.923576\n",
              "50424    의지 박약들이나 하는거다 탈영은 일단 주인공 김대희 닮았고 이등병 찐따 OOOO   0.320827\n",
              "50425              그림도 좋고 완성도도 높았지만... 보는 내내 불안하게 만든다   0.116068\n",
              "50426  절대 봐서는 안 될 영화.. 재미도 없고 기분만 잡치고.. 한 세트장에서 다 해먹네   0.474217\n",
              "50427                                      마무리는 또 왜이래   0.781201\n",
              "\n",
              "[50428 rows x 2 columns]"
            ]
          },
          "metadata": {},
          "execution_count": 3
        }
      ]
    },
    {
      "cell_type": "code",
      "metadata": {
        "id": "p5u5I60PRyxP",
        "colab": {
          "base_uri": "https://localhost:8080/",
          "height": 239
        },
        "outputId": "73476007-4414-4e77-b148-8673829d58fa"
      },
      "source": [
        "title = response_dict.get('title', 'Generic')\n",
        "\n",
        "title = response_dict['title'] if title in response_dict else 'Generic'\n",
        "\n",
        "if title in response_dict:\n",
        "    title = response_dict['title']\n",
        "else:\n",
        "    title = 'Generic'\n",
        "\n",
        "try:\n",
        "    title = response_dict['title']\n",
        "except KeyError:\n",
        "    title = 'Generic'\n",
        "#감성분석 결과 긍정문에서 신조어 사용 횟수 세기\n",
        "for i in (b.loc[b['sentiment'] >= 0.5]): #1 말고 True 넣어도 되나?\n",
        "  c = b['title'].count(a[i])\n",
        "\n",
        "#감성분석 결과 부정문에서 신조어 사용 횟수 세기\n",
        "#for i in (b.loc[b['sentiment'] < 0.5]):\n",
        "#  d = b.count(a[i])"
      ],
      "execution_count": null,
      "outputs": [
        {
          "output_type": "error",
          "ename": "NameError",
          "evalue": "ignored",
          "traceback": [
            "\u001b[0;31m---------------------------------------------------------------------------\u001b[0m",
            "\u001b[0;31mNameError\u001b[0m                                 Traceback (most recent call last)",
            "\u001b[0;32m<ipython-input-5-47871d0cc68b>\u001b[0m in \u001b[0;36m<module>\u001b[0;34m()\u001b[0m\n\u001b[0;32m----> 1\u001b[0;31m \u001b[0mtitle\u001b[0m \u001b[0;34m=\u001b[0m \u001b[0mresponse_dict\u001b[0m\u001b[0;34m.\u001b[0m\u001b[0mget\u001b[0m\u001b[0;34m(\u001b[0m\u001b[0;34m'title'\u001b[0m\u001b[0;34m,\u001b[0m \u001b[0;34m'Generic'\u001b[0m\u001b[0;34m)\u001b[0m\u001b[0;34m\u001b[0m\u001b[0;34m\u001b[0m\u001b[0m\n\u001b[0m\u001b[1;32m      2\u001b[0m \u001b[0;34m\u001b[0m\u001b[0m\n\u001b[1;32m      3\u001b[0m \u001b[0mtitle\u001b[0m \u001b[0;34m=\u001b[0m \u001b[0mresponse_dict\u001b[0m\u001b[0;34m[\u001b[0m\u001b[0;34m'title'\u001b[0m\u001b[0;34m]\u001b[0m \u001b[0;32mif\u001b[0m \u001b[0mtitle\u001b[0m \u001b[0;32min\u001b[0m \u001b[0mresponse_dict\u001b[0m \u001b[0;32melse\u001b[0m \u001b[0;34m'Generic'\u001b[0m\u001b[0;34m\u001b[0m\u001b[0;34m\u001b[0m\u001b[0m\n\u001b[1;32m      4\u001b[0m \u001b[0;34m\u001b[0m\u001b[0m\n\u001b[1;32m      5\u001b[0m \u001b[0;32mif\u001b[0m \u001b[0mtitle\u001b[0m \u001b[0;32min\u001b[0m \u001b[0mresponse_dict\u001b[0m\u001b[0;34m:\u001b[0m\u001b[0;34m\u001b[0m\u001b[0;34m\u001b[0m\u001b[0m\n",
            "\u001b[0;31mNameError\u001b[0m: name 'response_dict' is not defined"
          ]
        }
      ]
    },
    {
      "cell_type": "code",
      "metadata": {
        "id": "45V6h10JjUlM"
      },
      "source": [
        "#긍정 : 부정 비율 따지기 - 긍정의 비율이 60 초과면 긍정, 40~60 중립, 40미만 부정\n",
        "for i in range(b):\n",
        "  if c/d > 1.5:\n",
        "    print(\"긍정\")\n",
        "  elif d/c > 1.5:\n",
        "    print(\"부정\")\n",
        "  else:\n",
        "    print(\"중립\")"
      ],
      "execution_count": null,
      "outputs": []
    }
  ]
}